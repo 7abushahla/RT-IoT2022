{
 "cells": [
  {
   "cell_type": "code",
   "execution_count": 1,
   "id": "f0d25588-ce78-4190-bd03-612a41aa3bf6",
   "metadata": {},
   "outputs": [],
   "source": [
    "import binascii"
   ]
  },
  {
   "cell_type": "code",
   "execution_count": 2,
   "id": "ea29b562-1577-4bef-9fd4-9716b57a183f",
   "metadata": {},
   "outputs": [],
   "source": [
    "def convert_to_c_array(bytes_data) -> str:\n",
    "    hexstr = binascii.hexlify(bytes_data).decode(\"UTF-8\").upper()\n",
    "    array = [\"0x\" + hexstr[i:i + 2] for i in range(0, len(hexstr), 2)]\n",
    "    array = [array[i:i+10] for i in range(0, len(array), 10)]\n",
    "    return \",\\n  \".join([\", \".join(e) for e in array])"
   ]
  },
  {
   "cell_type": "code",
   "execution_count": 6,
   "id": "5e0716cc-af7a-456d-af90-f3d505810a2a",
   "metadata": {},
   "outputs": [],
   "source": [
    "# Read the TFLite model\n",
    "with open('./DL Models/best_AE_model.tflite', 'rb') as f:\n",
    "    tflite_binary = f.read()\n",
    "\n",
    "ascii_bytes = convert_to_c_array(tflite_binary)\n",
    "header_file_content = (\n",
    "    \"const unsigned char model_tflite[] = {\\n  \" \n",
    "    + ascii_bytes \n",
    "    + \"\\n};\\nunsigned int model_tflite_len = \" \n",
    "    + str(len(tflite_binary)) + \";\"\n",
    ")\n",
    "\n",
    "# Write to .h file\n",
    "with open(\"./DL Models/best_AE_model.h\", \"w\") as f:\n",
    "    f.write(header_file_content)"
   ]
  },
  {
   "cell_type": "code",
   "execution_count": null,
   "id": "db4d5be9-e55a-4331-ad4d-a54c526e0b83",
   "metadata": {},
   "outputs": [],
   "source": []
  }
 ],
 "metadata": {
  "kernelspec": {
   "display_name": "Python (tuninggpu310)",
   "language": "python",
   "name": "tuninggpu310"
  },
  "language_info": {
   "codemirror_mode": {
    "name": "ipython",
    "version": 3
   },
   "file_extension": ".py",
   "mimetype": "text/x-python",
   "name": "python",
   "nbconvert_exporter": "python",
   "pygments_lexer": "ipython3",
   "version": "3.10.16"
  }
 },
 "nbformat": 4,
 "nbformat_minor": 5
}
