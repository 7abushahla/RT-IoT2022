{
 "cells": [
  {
   "cell_type": "markdown",
   "metadata": {
    "cell_id": "0363b5c1c6b24ef5ad31fe946177d909",
    "deepnote_cell_type": "markdown"
   },
   "source": [
    "# GPU-IFIED CODE\n",
    "### Can run with or without CUDA"
   ]
  },
  {
   "cell_type": "code",
   "execution_count": 1,
   "metadata": {
    "execution": {
     "iopub.execute_input": "2025-08-12T08:08:23.800969Z",
     "iopub.status.busy": "2025-08-12T08:08:23.800815Z",
     "iopub.status.idle": "2025-08-12T08:08:23.806635Z",
     "shell.execute_reply": "2025-08-12T08:08:23.806142Z"
    }
   },
   "outputs": [
    {
     "name": "stdout",
     "output_type": "stream",
     "text": [
      "/home/rteam8/anaconda3/envs/tuninggpu310/bin/python3.10\n"
     ]
    }
   ],
   "source": [
    "import sys\n",
    "print(sys.executable)"
   ]
  },
  {
   "cell_type": "code",
   "execution_count": 2,
   "metadata": {
    "cell_id": "20532833bbc3457783d4da65a6822ba0",
    "deepnote_cell_type": "code",
    "deepnote_to_be_reexecuted": false,
    "execution": {
     "iopub.execute_input": "2025-08-12T08:08:23.835880Z",
     "iopub.status.busy": "2025-08-12T08:08:23.835694Z",
     "iopub.status.idle": "2025-08-12T08:08:24.936963Z",
     "shell.execute_reply": "2025-08-12T08:08:24.936362Z"
    },
    "execution_millis": 3249,
    "execution_start": 1722695949234,
    "source_hash": null
   },
   "outputs": [],
   "source": [
    "import os\n",
    "import json\n",
    "import joblib\n",
    "import pandas as pd\n",
    "import numpy as np\n",
    "import matplotlib.pyplot as plt\n",
    "import seaborn as sns\n",
    "\n",
    "from sklearn.model_selection import train_test_split, RepeatedStratifiedKFold, cross_validate\n",
    "from sklearn.preprocessing import LabelEncoder, StandardScaler, OneHotEncoder, label_binarize\n",
    "from sklearn.compose import ColumnTransformer\n",
    "from sklearn.pipeline import Pipeline\n",
    "from sklearn.metrics import (\n",
    "    classification_report,\n",
    "    confusion_matrix,\n",
    "    roc_curve,\n",
    "    auc,\n",
    "    balanced_accuracy_score,\n",
    "    f1_score,\n",
    "    roc_auc_score,\n",
    "    accuracy_score,\n",
    "    precision_score,\n",
    "    recall_score\n",
    ")\n",
    "from xgboost import XGBClassifier\n",
    "from sklearn.ensemble import RandomForestClassifier"
   ]
  },
  {
   "cell_type": "code",
   "execution_count": 3,
   "metadata": {
    "execution": {
     "iopub.execute_input": "2025-08-12T08:08:24.939039Z",
     "iopub.status.busy": "2025-08-12T08:08:24.938784Z",
     "iopub.status.idle": "2025-08-12T08:08:24.941331Z",
     "shell.execute_reply": "2025-08-12T08:08:24.940847Z"
    }
   },
   "outputs": [],
   "source": [
    "import gc\n",
    "import random\n",
    "from IPython.display import clear_output"
   ]
  },
  {
   "cell_type": "code",
   "execution_count": 4,
   "metadata": {
    "execution": {
     "iopub.execute_input": "2025-08-12T08:08:24.942759Z",
     "iopub.status.busy": "2025-08-12T08:08:24.942593Z",
     "iopub.status.idle": "2025-08-12T08:08:24.944831Z",
     "shell.execute_reply": "2025-08-12T08:08:24.944362Z"
    }
   },
   "outputs": [],
   "source": [
    "import json"
   ]
  },
  {
   "cell_type": "code",
   "execution_count": 5,
   "metadata": {
    "cell_id": "7e65747b20e1466ab8f13e6d0c6627f9",
    "deepnote_cell_type": "code",
    "deepnote_to_be_reexecuted": false,
    "execution": {
     "iopub.execute_input": "2025-08-12T08:08:24.946273Z",
     "iopub.status.busy": "2025-08-12T08:08:24.946101Z",
     "iopub.status.idle": "2025-08-12T08:08:24.948338Z",
     "shell.execute_reply": "2025-08-12T08:08:24.947882Z"
    },
    "execution_millis": 64,
    "execution_start": 1722695952489,
    "source_hash": null
   },
   "outputs": [],
   "source": [
    "import warnings\n",
    "warnings.filterwarnings(\"ignore\")"
   ]
  },
  {
   "cell_type": "code",
   "execution_count": 6,
   "metadata": {
    "execution": {
     "iopub.execute_input": "2025-08-12T08:08:24.949665Z",
     "iopub.status.busy": "2025-08-12T08:08:24.949503Z",
     "iopub.status.idle": "2025-08-12T08:08:24.951896Z",
     "shell.execute_reply": "2025-08-12T08:08:24.951433Z"
    }
   },
   "outputs": [],
   "source": [
    "# Set the seed for reproducibility\n",
    "SEED = 42\n",
    "np.random.seed(SEED)\n",
    "random.seed(SEED)"
   ]
  },
  {
   "cell_type": "code",
   "execution_count": 7,
   "metadata": {
    "execution": {
     "iopub.execute_input": "2025-08-12T08:08:24.953306Z",
     "iopub.status.busy": "2025-08-12T08:08:24.953128Z",
     "iopub.status.idle": "2025-08-12T08:08:24.955789Z",
     "shell.execute_reply": "2025-08-12T08:08:24.955330Z"
    }
   },
   "outputs": [],
   "source": [
    "# Settings\n",
    "N_FOLDS = 10\n",
    "N_REPEATS = 3\n",
    "# BATCHSIZE = 128  # Not used in Random Forest\n",
    "CLASSES = 13\n",
    "\n",
    "# INPUT_SIZE = 83  # Not used in Random Forest, but retained for consistency\n",
    "\n",
    "FIG_SIZE = (12, 12)\n",
    "num_iters = \"_100\"\n",
    "model_type = \"_xgb\"\n",
    "CHECKPOINT_DIR = f\"./checkpoints{model_type}{num_iters}\""
   ]
  },
  {
   "cell_type": "code",
   "execution_count": 8,
   "metadata": {
    "execution": {
     "iopub.execute_input": "2025-08-12T08:08:24.957226Z",
     "iopub.status.busy": "2025-08-12T08:08:24.957053Z",
     "iopub.status.idle": "2025-08-12T08:08:24.959118Z",
     "shell.execute_reply": "2025-08-12T08:08:24.958653Z"
    }
   },
   "outputs": [],
   "source": [
    "# NUM_BOOST_ROUNDS = 1_500\n",
    "# EARLY_STOPPING_ROUNDS = 300\n",
    "# SAVE_MODEL_EVERY = 300\n",
    "# VERBOSE_EVAL = 5"
   ]
  },
  {
   "cell_type": "code",
   "execution_count": 9,
   "metadata": {
    "execution": {
     "iopub.execute_input": "2025-08-12T08:08:24.960513Z",
     "iopub.status.busy": "2025-08-12T08:08:24.960352Z",
     "iopub.status.idle": "2025-08-12T08:08:24.963627Z",
     "shell.execute_reply": "2025-08-12T08:08:24.963177Z"
    }
   },
   "outputs": [],
   "source": [
    "# Hyperparameters for XGBoost (from Optuna) without GPU configurations\n",
    "BEST_XGB_PARAMS = {\n",
    "    'num_boost_round': 100,\n",
    "    'device': 'cuda',\n",
    "    'alpha': 0.6752478197096309,\n",
    "    'booster': \"gbtree\",\n",
    "    'colsample_bytree': 0.6992926309118707,\n",
    "    'lambda': 0.000016278902198891244,\n",
    "    'subsample': 0.9267281985537734,\n",
    "    'learning_rate': 0.19135741143814938,  # eta\n",
    "    'gamma': 0.011591838343446076,\n",
    "    'max_depth': 34,\n",
    "    'min_child_weight': 5,\n",
    "    'grow_policy': \"depthwise\",\n",
    "    'objective': \"multi:softprob\",\n",
    "    'num_class': CLASSES,  \n",
    "    'random_state': SEED,                # Ensure reproducibility\n",
    "    'n_jobs': -1,                         # Utilize all available cores\n",
    "    'verbosity': 0,\n",
    "    # Removed 'tree_method' and 'gpu_id' as GPU is not available\n",
    "    # Removed 'grow_policy' as it's optional and not necessary here\n",
    "    'disable_default_eval_metric': 1, \n",
    "    # 'normalize_type': 'tree',\n",
    "    # 'rate_drop': 1.5562623352315277e-7,\n",
    "    # 'sample_type': 'uniform',\n",
    "    # 'skip_drop': 0.06838834680508599,\n",
    "    'seed': SEED,\n",
    "}"
   ]
  },
  {
   "cell_type": "code",
   "execution_count": 10,
   "metadata": {
    "execution": {
     "iopub.execute_input": "2025-08-12T08:08:24.964983Z",
     "iopub.status.busy": "2025-08-12T08:08:24.964815Z",
     "iopub.status.idle": "2025-08-12T08:08:24.967174Z",
     "shell.execute_reply": "2025-08-12T08:08:24.966706Z"
    }
   },
   "outputs": [],
   "source": [
    "if not os.path.exists(CHECKPOINT_DIR):\n",
    "    os.makedirs(CHECKPOINT_DIR, exist_ok=True)"
   ]
  },
  {
   "cell_type": "code",
   "execution_count": 11,
   "metadata": {
    "execution": {
     "iopub.execute_input": "2025-08-12T08:08:24.968548Z",
     "iopub.status.busy": "2025-08-12T08:08:24.968387Z",
     "iopub.status.idle": "2025-08-12T08:08:24.971064Z",
     "shell.execute_reply": "2025-08-12T08:08:24.970605Z"
    }
   },
   "outputs": [],
   "source": [
    "# Create necessary folders\n",
    "def create_folders():\n",
    "    folders = [\n",
    "        f\"outputs{model_type}{num_iters}/overall\",\n",
    "        f\"outputs{model_type}{num_iters}/validation_model\",\n",
    "        f\"outputs{model_type}{num_iters}/evaluation_model_full_training_set\",\n",
    "    ]\n",
    "    \n",
    "    for folder in folders:\n",
    "        os.makedirs(folder, exist_ok=True)"
   ]
  },
  {
   "cell_type": "code",
   "execution_count": 12,
   "metadata": {
    "execution": {
     "iopub.execute_input": "2025-08-12T08:08:24.972385Z",
     "iopub.status.busy": "2025-08-12T08:08:24.972223Z",
     "iopub.status.idle": "2025-08-12T08:08:24.974514Z",
     "shell.execute_reply": "2025-08-12T08:08:24.974051Z"
    }
   },
   "outputs": [],
   "source": [
    "create_folders()"
   ]
  },
  {
   "cell_type": "code",
   "execution_count": 13,
   "metadata": {
    "execution": {
     "iopub.execute_input": "2025-08-12T08:08:24.975897Z",
     "iopub.status.busy": "2025-08-12T08:08:24.975738Z",
     "iopub.status.idle": "2025-08-12T08:08:24.977926Z",
     "shell.execute_reply": "2025-08-12T08:08:24.977482Z"
    }
   },
   "outputs": [],
   "source": [
    "save_path = f\"outputs{model_type}{num_iters}/overall/\""
   ]
  },
  {
   "cell_type": "code",
   "execution_count": 14,
   "metadata": {
    "execution": {
     "iopub.execute_input": "2025-08-12T08:08:24.979321Z",
     "iopub.status.busy": "2025-08-12T08:08:24.979151Z",
     "iopub.status.idle": "2025-08-12T08:08:24.981277Z",
     "shell.execute_reply": "2025-08-12T08:08:24.980800Z"
    }
   },
   "outputs": [],
   "source": [
    "# # Custom macro F1 score for XGBoost\n",
    "# def macro_f1_score_xgb(preds, dtrain):\n",
    "#     y_true = dtrain.get_label()\n",
    "#     y_pred = np.argmax(preds, axis=1)\n",
    "#     f1 = f1_score(y_true, y_pred, average='macro')\n",
    "#     return 'macro_f1', f1"
   ]
  },
  {
   "cell_type": "code",
   "execution_count": 15,
   "metadata": {
    "execution": {
     "iopub.execute_input": "2025-08-12T08:08:24.982658Z",
     "iopub.status.busy": "2025-08-12T08:08:24.982499Z",
     "iopub.status.idle": "2025-08-12T08:08:24.985999Z",
     "shell.execute_reply": "2025-08-12T08:08:24.985514Z"
    }
   },
   "outputs": [],
   "source": [
    "# Cell 2: Load and Preprocess Data\n",
    "\n",
    "def load_and_preprocess_data(filepath):\n",
    "    \"\"\"\n",
    "    Loads data from a CSV file, replaces placeholders, and separates features from target.\n",
    "    \n",
    "    Args:\n",
    "        filepath (str): Path to the CSV file.\n",
    "        \n",
    "    Returns:\n",
    "        data (pd.DataFrame): Feature dataframe.\n",
    "        target (pd.Series): Target labels.\n",
    "        feature_names (list): List of feature names.\n",
    "    \"\"\"\n",
    "    data = pd.read_csv(filepath)\n",
    "    \n",
    "    # Replace '-' with 'None' in categorical columns\n",
    "    data['service'] = data['service'].replace('-', 'None')\n",
    "    data['proto'] = data['proto'].replace('-', 'None')\n",
    "    \n",
    "    # Separate features and target\n",
    "    feature_names = data.drop(columns=['Attack_type']).columns.tolist()\n",
    "    target = data['Attack_type']\n",
    "    data = data.drop(columns=['Attack_type'])\n",
    "    \n",
    "    return data, target, feature_names"
   ]
  },
  {
   "cell_type": "code",
   "execution_count": 16,
   "metadata": {
    "execution": {
     "iopub.execute_input": "2025-08-12T08:08:24.987370Z",
     "iopub.status.busy": "2025-08-12T08:08:24.987206Z",
     "iopub.status.idle": "2025-08-12T08:08:26.193069Z",
     "shell.execute_reply": "2025-08-12T08:08:26.192450Z"
    }
   },
   "outputs": [],
   "source": [
    "# Load the dataset\n",
    "data, target, feature_names = load_and_preprocess_data('./RT_IOT2022_new.csv')"
   ]
  },
  {
   "cell_type": "code",
   "execution_count": 17,
   "metadata": {
    "execution": {
     "iopub.execute_input": "2025-08-12T08:08:26.195137Z",
     "iopub.status.busy": "2025-08-12T08:08:26.194963Z",
     "iopub.status.idle": "2025-08-12T08:08:26.197857Z",
     "shell.execute_reply": "2025-08-12T08:08:26.197378Z"
    }
   },
   "outputs": [],
   "source": [
    "def encode_targets(target):\n",
    "    \"\"\"\n",
    "    Encodes categorical target labels into numerical codes.\n",
    "    \n",
    "    Args:\n",
    "        target (pd.Series): Categorical target labels.\n",
    "        \n",
    "    Returns:\n",
    "        target_encoded (np.ndarray): Encoded target labels.\n",
    "        class_labels (list): List of class names.\n",
    "        target_encoder (LabelEncoder): Fitted LabelEncoder instance.\n",
    "    \"\"\"\n",
    "    target_encoder = LabelEncoder()\n",
    "    target_encoded = target_encoder.fit_transform(target)\n",
    "    class_labels = target_encoder.classes_\n",
    "    return target_encoded, class_labels, target_encoder"
   ]
  },
  {
   "cell_type": "code",
   "execution_count": 18,
   "metadata": {
    "execution": {
     "iopub.execute_input": "2025-08-12T08:08:26.199307Z",
     "iopub.status.busy": "2025-08-12T08:08:26.199121Z",
     "iopub.status.idle": "2025-08-12T08:08:26.223406Z",
     "shell.execute_reply": "2025-08-12T08:08:26.222921Z"
    }
   },
   "outputs": [],
   "source": [
    "# Encode target labels\n",
    "Y_encoded, class_labels, target_encoder = encode_targets(target)"
   ]
  },
  {
   "cell_type": "code",
   "execution_count": 19,
   "metadata": {
    "execution": {
     "iopub.execute_input": "2025-08-12T08:08:26.224733Z",
     "iopub.status.busy": "2025-08-12T08:08:26.224572Z",
     "iopub.status.idle": "2025-08-12T08:08:26.227315Z",
     "shell.execute_reply": "2025-08-12T08:08:26.226822Z"
    }
   },
   "outputs": [
    {
     "name": "stdout",
     "output_type": "stream",
     "text": [
      "Number of unique classes: 13\n",
      "Class labels: ['ARP_poisioning' 'Alexa' 'DDOS_Slowloris' 'DOS_SYN_Hping' 'MQTT_Publish'\n",
      " 'Metasploit_Brute_Force_SSH' 'NMAP_FIN_SCAN' 'NMAP_OS_DETECTION'\n",
      " 'NMAP_TCP_scan' 'NMAP_UDP_SCAN' 'NMAP_XMAS_TREE_SCAN' 'Thing_Speak'\n",
      " 'Wipro_bulb']\n"
     ]
    }
   ],
   "source": [
    "print(f\"Number of unique classes: {len(class_labels)}\")\n",
    "print(f\"Class labels: {class_labels}\")"
   ]
  },
  {
   "cell_type": "code",
   "execution_count": 20,
   "metadata": {
    "execution": {
     "iopub.execute_input": "2025-08-12T08:08:26.228743Z",
     "iopub.status.busy": "2025-08-12T08:08:26.228581Z",
     "iopub.status.idle": "2025-08-12T08:08:26.355557Z",
     "shell.execute_reply": "2025-08-12T08:08:26.354951Z"
    }
   },
   "outputs": [
    {
     "name": "stdout",
     "output_type": "stream",
     "text": [
      "Training set size: (167967, 83)\n",
      "Test set size: (41992, 83)\n"
     ]
    }
   ],
   "source": [
    "# Split the data into train and test sets\n",
    "X_train, X_test, Y_train, Y_test = train_test_split(\n",
    "    data, Y_encoded, test_size=0.2, random_state=SEED, stratify=Y_encoded\n",
    ")\n",
    "\n",
    "print(f\"Training set size: {X_train.shape}\")\n",
    "print(f\"Test set size: {X_test.shape}\")\n",
    "\n",
    "# Clean up to save memory\n",
    "del data\n",
    "del target"
   ]
  },
  {
   "cell_type": "code",
   "execution_count": 21,
   "metadata": {
    "execution": {
     "iopub.execute_input": "2025-08-12T08:08:26.357190Z",
     "iopub.status.busy": "2025-08-12T08:08:26.357006Z",
     "iopub.status.idle": "2025-08-12T08:08:26.377717Z",
     "shell.execute_reply": "2025-08-12T08:08:26.377165Z"
    }
   },
   "outputs": [],
   "source": [
    "# Cell 5: Define Preprocessing and Model Pipeline\n",
    "\n",
    "# Identify numerical and categorical columns\n",
    "numerical_cols = X_train.select_dtypes(include=[\"int64\", \"float64\", \"float32\"]).columns.tolist()\n",
    "categorical_cols = [\"proto\", \"service\"]  # Adjust based on your data\n",
    "\n",
    "# Update preprocessing for numerical and categorical columns\n",
    "numerical_transformer = Pipeline(steps=[\n",
    "    ('scaler', StandardScaler())\n",
    "])\n",
    "\n",
    "# Define the preprocessing for categorical data\n",
    "categorical_transformer = Pipeline(steps=[\n",
    "    ('onehot', OneHotEncoder(handle_unknown='ignore'))\n",
    "])\n",
    "\n",
    "# Combine preprocessing steps\n",
    "preprocessor = ColumnTransformer(\n",
    "    transformers=[\n",
    "        ('num', numerical_transformer, numerical_cols),\n",
    "        ('cat', categorical_transformer, categorical_cols)\n",
    "    ]\n",
    ")\n",
    "\n",
    "# Define XGBoost without GPU\n",
    "xgb_classifier = XGBClassifier(\n",
    "    **BEST_XGB_PARAMS,\n",
    "    enable_categorical=False  # Use preprocessed categorical data\n",
    ")\n",
    "\n",
    "# Create the pipeline\n",
    "model_pipeline = Pipeline(steps=[\n",
    "    ('preprocessor', preprocessor),\n",
    "    ('classifier', xgb_classifier)\n",
    "])\n"
   ]
  },
  {
   "cell_type": "code",
   "execution_count": 22,
   "metadata": {
    "execution": {
     "iopub.execute_input": "2025-08-12T08:08:26.379415Z",
     "iopub.status.busy": "2025-08-12T08:08:26.379238Z",
     "iopub.status.idle": "2025-08-12T08:08:26.381621Z",
     "shell.execute_reply": "2025-08-12T08:08:26.381119Z"
    }
   },
   "outputs": [],
   "source": [
    "from sklearn.metrics import make_scorer"
   ]
  },
  {
   "cell_type": "code",
   "execution_count": 23,
   "metadata": {
    "execution": {
     "iopub.execute_input": "2025-08-12T08:08:26.383056Z",
     "iopub.status.busy": "2025-08-12T08:08:26.382894Z",
     "iopub.status.idle": "2025-08-12T08:08:26.385386Z",
     "shell.execute_reply": "2025-08-12T08:08:26.384824Z"
    }
   },
   "outputs": [],
   "source": [
    "# # Sample a small subset for testing\n",
    "# X_sample = X_train.iloc[:100]\n",
    "# Y_sample = Y_train[:100]\n",
    "\n",
    "# # Perform stratified sampling to ensure all classes are represented\n",
    "# X_sample, _, Y_sample, _ = train_test_split(\n",
    "#     X_train, Y_train, test_size=0.9, random_state=SEED, stratify=Y_train\n",
    "# )\n",
    "\n",
    "# print(f\"Sampled X_sample shape: {X_sample.shape}\")\n",
    "# print(f\"Sampled Y_sample shape: {Y_sample.shape}\")\n",
    "# print(f\"Unique classes in Y_sample: {np.unique(Y_sample)}\")\n",
    "\n",
    "# # Fit the pipeline\n",
    "# model_pipeline.fit(X_sample, Y_sample)\n",
    "\n",
    "# # Predict using the pipeline\n",
    "# Y_pred_sample = model_pipeline.predict(X_sample)\n",
    "# Y_pred_proba_sample = model_pipeline.predict_proba(X_sample)\n",
    "\n",
    "# print(\"Sample Predictions:\", Y_pred_sample)\n",
    "# print(\"Sample Probabilities:\", Y_pred_proba_sample)"
   ]
  },
  {
   "cell_type": "code",
   "execution_count": 24,
   "metadata": {
    "execution": {
     "iopub.execute_input": "2025-08-12T08:08:26.386874Z",
     "iopub.status.busy": "2025-08-12T08:08:26.386706Z",
     "iopub.status.idle": "2025-08-12T08:08:26.388936Z",
     "shell.execute_reply": "2025-08-12T08:08:26.388476Z"
    }
   },
   "outputs": [],
   "source": [
    "from sklearn.metrics import make_scorer"
   ]
  },
  {
   "cell_type": "code",
   "execution_count": 25,
   "metadata": {
    "execution": {
     "iopub.execute_input": "2025-08-12T08:08:26.390458Z",
     "iopub.status.busy": "2025-08-12T08:08:26.390293Z",
     "iopub.status.idle": "2025-08-12T08:10:47.447697Z",
     "shell.execute_reply": "2025-08-12T08:10:47.447058Z"
    }
   },
   "outputs": [
    {
     "name": "stdout",
     "output_type": "stream",
     "text": [
      "\n",
      "Fold 1/30\n"
     ]
    },
    {
     "name": "stdout",
     "output_type": "stream",
     "text": [
      "Before preprocessing: X_train_fold shape: (151170, 83), X_valid_fold shape: (16797, 83)\n"
     ]
    },
    {
     "name": "stdout",
     "output_type": "stream",
     "text": [
      "After preprocessing: X_train_fold shape: (151170, 94), X_valid_fold shape: (16797, 94)\n"
     ]
    },
    {
     "name": "stdout",
     "output_type": "stream",
     "text": [
      "Training Balanced Accuracy: 0.9777\n",
      "Validation Balanced Accuracy: 0.9644\n",
      "Training Accuracy: 0.9997\n",
      "Validation Accuracy: 0.9992\n",
      "Training Macro F1 Score: 0.9864\n",
      "Validation Macro F1 Score: 0.9685\n",
      "Training Precision (Macro): 0.9962\n",
      "Validation Precision (Macro): 0.9729\n",
      "Training Recall (Macro): 0.9777\n",
      "Validation Recall (Macro): 0.9644\n",
      "Training ROC AUC Score: 1.0000\n",
      "Validation ROC AUC Score: 0.9999\n"
     ]
    },
    {
     "name": "stdout",
     "output_type": "stream",
     "text": [
      "Metrics saved to ./checkpoints_xgb_100/metrics_fold1_100.json\n",
      "Best model updated and saved to ./checkpoints_xgb_100/best_xgb_model_100.joblib with Macro F1: 0.9685\n",
      "Model for fold 1 saved to ./checkpoints_xgb_100/model_fold1_100.joblib\n",
      "\n",
      "Fold 2/30\n",
      "Before preprocessing: X_train_fold shape: (151170, 83), X_valid_fold shape: (16797, 83)\n"
     ]
    },
    {
     "name": "stdout",
     "output_type": "stream",
     "text": [
      "After preprocessing: X_train_fold shape: (151170, 94), X_valid_fold shape: (16797, 94)\n"
     ]
    },
    {
     "name": "stdout",
     "output_type": "stream",
     "text": [
      "Training Balanced Accuracy: 0.9683\n",
      "Validation Balanced Accuracy: 0.9929\n",
      "Training Accuracy: 0.9997\n",
      "Validation Accuracy: 0.9990\n",
      "Training Macro F1 Score: 0.9821\n",
      "Validation Macro F1 Score: 0.9952\n",
      "Training Precision (Macro): 0.9990\n",
      "Validation Precision (Macro): 0.9975\n",
      "Training Recall (Macro): 0.9683\n",
      "Validation Recall (Macro): 0.9929\n",
      "Training ROC AUC Score: 1.0000\n",
      "Validation ROC AUC Score: 1.0000\n"
     ]
    },
    {
     "name": "stdout",
     "output_type": "stream",
     "text": [
      "Metrics saved to ./checkpoints_xgb_100/metrics_fold2_100.json\n",
      "Best model updated and saved to ./checkpoints_xgb_100/best_xgb_model_100.joblib with Macro F1: 0.9952\n",
      "Model for fold 2 saved to ./checkpoints_xgb_100/model_fold2_100.joblib\n",
      "\n",
      "Fold 3/30\n",
      "Before preprocessing: X_train_fold shape: (151170, 83), X_valid_fold shape: (16797, 83)\n"
     ]
    },
    {
     "name": "stdout",
     "output_type": "stream",
     "text": [
      "After preprocessing: X_train_fold shape: (151170, 94), X_valid_fold shape: (16797, 94)\n"
     ]
    },
    {
     "name": "stdout",
     "output_type": "stream",
     "text": [
      "Training Balanced Accuracy: 0.9692\n",
      "Validation Balanced Accuracy: 0.9668\n",
      "Training Accuracy: 0.9997\n",
      "Validation Accuracy: 0.9989\n",
      "Training Macro F1 Score: 0.9825\n",
      "Validation Macro F1 Score: 0.9796\n",
      "Training Precision (Macro): 0.9989\n",
      "Validation Precision (Macro): 0.9978\n",
      "Training Recall (Macro): 0.9692\n",
      "Validation Recall (Macro): 0.9668\n",
      "Training ROC AUC Score: 1.0000\n",
      "Validation ROC AUC Score: 1.0000\n"
     ]
    },
    {
     "name": "stdout",
     "output_type": "stream",
     "text": [
      "Metrics saved to ./checkpoints_xgb_100/metrics_fold3_100.json\n",
      "Model for fold 3 saved to ./checkpoints_xgb_100/model_fold3_100.joblib\n",
      "\n",
      "Fold 4/30\n",
      "Before preprocessing: X_train_fold shape: (151170, 83), X_valid_fold shape: (16797, 83)\n"
     ]
    },
    {
     "name": "stdout",
     "output_type": "stream",
     "text": [
      "After preprocessing: X_train_fold shape: (151170, 93), X_valid_fold shape: (16797, 93)\n"
     ]
    },
    {
     "name": "stdout",
     "output_type": "stream",
     "text": [
      "Training Balanced Accuracy: 0.9776\n",
      "Validation Balanced Accuracy: 0.8974\n",
      "Training Accuracy: 0.9997\n",
      "Validation Accuracy: 0.9985\n",
      "Training Macro F1 Score: 0.9876\n",
      "Validation Macro F1 Score: 0.9277\n",
      "Training Precision (Macro): 0.9990\n",
      "Validation Precision (Macro): 0.9968\n",
      "Training Recall (Macro): 0.9776\n",
      "Validation Recall (Macro): 0.8974\n",
      "Training ROC AUC Score: 1.0000\n",
      "Validation ROC AUC Score: 0.9999\n"
     ]
    },
    {
     "name": "stdout",
     "output_type": "stream",
     "text": [
      "Metrics saved to ./checkpoints_xgb_100/metrics_fold4_100.json\n",
      "Model for fold 4 saved to ./checkpoints_xgb_100/model_fold4_100.joblib\n",
      "\n",
      "Fold 5/30\n",
      "Before preprocessing: X_train_fold shape: (151170, 83), X_valid_fold shape: (16797, 83)\n"
     ]
    },
    {
     "name": "stdout",
     "output_type": "stream",
     "text": [
      "After preprocessing: X_train_fold shape: (151170, 94), X_valid_fold shape: (16797, 94)\n"
     ]
    },
    {
     "name": "stdout",
     "output_type": "stream",
     "text": [
      "Training Balanced Accuracy: 0.9685\n",
      "Validation Balanced Accuracy: 0.9429\n",
      "Training Accuracy: 0.9997\n",
      "Validation Accuracy: 0.9985\n",
      "Training Macro F1 Score: 0.9822\n",
      "Validation Macro F1 Score: 0.9570\n",
      "Training Precision (Macro): 0.9991\n",
      "Validation Precision (Macro): 0.9966\n",
      "Training Recall (Macro): 0.9685\n",
      "Validation Recall (Macro): 0.9429\n",
      "Training ROC AUC Score: 1.0000\n",
      "Validation ROC AUC Score: 1.0000\n"
     ]
    },
    {
     "name": "stdout",
     "output_type": "stream",
     "text": [
      "Metrics saved to ./checkpoints_xgb_100/metrics_fold5_100.json\n",
      "Model for fold 5 saved to ./checkpoints_xgb_100/model_fold5_100.joblib\n",
      "\n",
      "Fold 6/30\n",
      "Before preprocessing: X_train_fold shape: (151170, 83), X_valid_fold shape: (16797, 83)\n"
     ]
    },
    {
     "name": "stdout",
     "output_type": "stream",
     "text": [
      "After preprocessing: X_train_fold shape: (151170, 94), X_valid_fold shape: (16797, 94)\n"
     ]
    },
    {
     "name": "stdout",
     "output_type": "stream",
     "text": [
      "Training Balanced Accuracy: 0.9781\n",
      "Validation Balanced Accuracy: 0.9123\n",
      "Training Accuracy: 0.9997\n",
      "Validation Accuracy: 0.9985\n",
      "Training Macro F1 Score: 0.9878\n",
      "Validation Macro F1 Score: 0.9390\n",
      "Training Precision (Macro): 0.9989\n",
      "Validation Precision (Macro): 0.9968\n",
      "Training Recall (Macro): 0.9781\n",
      "Validation Recall (Macro): 0.9123\n",
      "Training ROC AUC Score: 1.0000\n",
      "Validation ROC AUC Score: 0.9999\n"
     ]
    },
    {
     "name": "stdout",
     "output_type": "stream",
     "text": [
      "Metrics saved to ./checkpoints_xgb_100/metrics_fold6_100.json\n",
      "Model for fold 6 saved to ./checkpoints_xgb_100/model_fold6_100.joblib\n",
      "\n",
      "Fold 7/30\n",
      "Before preprocessing: X_train_fold shape: (151170, 83), X_valid_fold shape: (16797, 83)\n"
     ]
    },
    {
     "name": "stdout",
     "output_type": "stream",
     "text": [
      "After preprocessing: X_train_fold shape: (151170, 94), X_valid_fold shape: (16797, 94)\n"
     ]
    },
    {
     "name": "stdout",
     "output_type": "stream",
     "text": [
      "Training Balanced Accuracy: 0.9707\n",
      "Validation Balanced Accuracy: 0.9682\n",
      "Training Accuracy: 0.9997\n",
      "Validation Accuracy: 0.9988\n",
      "Training Macro F1 Score: 0.9823\n",
      "Validation Macro F1 Score: 0.9699\n",
      "Training Precision (Macro): 0.9958\n",
      "Validation Precision (Macro): 0.9717\n",
      "Training Recall (Macro): 0.9707\n",
      "Validation Recall (Macro): 0.9682\n",
      "Training ROC AUC Score: 1.0000\n",
      "Validation ROC AUC Score: 1.0000\n"
     ]
    },
    {
     "name": "stdout",
     "output_type": "stream",
     "text": [
      "Metrics saved to ./checkpoints_xgb_100/metrics_fold7_100.json\n",
      "Model for fold 7 saved to ./checkpoints_xgb_100/model_fold7_100.joblib\n",
      "\n",
      "Fold 8/30\n",
      "Before preprocessing: X_train_fold shape: (151171, 83), X_valid_fold shape: (16796, 83)\n"
     ]
    },
    {
     "name": "stdout",
     "output_type": "stream",
     "text": [
      "After preprocessing: X_train_fold shape: (151171, 94), X_valid_fold shape: (16796, 94)\n"
     ]
    },
    {
     "name": "stdout",
     "output_type": "stream",
     "text": [
      "Training Balanced Accuracy: 0.9686\n",
      "Validation Balanced Accuracy: 0.9976\n",
      "Training Accuracy: 0.9996\n",
      "Validation Accuracy: 0.9990\n",
      "Training Macro F1 Score: 0.9809\n",
      "Validation Macro F1 Score: 0.9871\n",
      "Training Precision (Macro): 0.9955\n",
      "Validation Precision (Macro): 0.9793\n",
      "Training Recall (Macro): 0.9686\n",
      "Validation Recall (Macro): 0.9976\n",
      "Training ROC AUC Score: 1.0000\n",
      "Validation ROC AUC Score: 1.0000\n"
     ]
    },
    {
     "name": "stdout",
     "output_type": "stream",
     "text": [
      "Metrics saved to ./checkpoints_xgb_100/metrics_fold8_100.json\n",
      "Model for fold 8 saved to ./checkpoints_xgb_100/model_fold8_100.joblib\n",
      "\n",
      "Fold 9/30\n",
      "Before preprocessing: X_train_fold shape: (151171, 83), X_valid_fold shape: (16796, 83)\n"
     ]
    },
    {
     "name": "stdout",
     "output_type": "stream",
     "text": [
      "After preprocessing: X_train_fold shape: (151171, 94), X_valid_fold shape: (16796, 94)\n"
     ]
    },
    {
     "name": "stdout",
     "output_type": "stream",
     "text": [
      "Training Balanced Accuracy: 0.9694\n",
      "Validation Balanced Accuracy: 0.9595\n",
      "Training Accuracy: 0.9997\n",
      "Validation Accuracy: 0.9985\n",
      "Training Macro F1 Score: 0.9827\n",
      "Validation Macro F1 Score: 0.9425\n",
      "Training Precision (Macro): 0.9991\n",
      "Validation Precision (Macro): 0.9510\n",
      "Training Recall (Macro): 0.9694\n",
      "Validation Recall (Macro): 0.9595\n",
      "Training ROC AUC Score: 1.0000\n",
      "Validation ROC AUC Score: 1.0000\n"
     ]
    },
    {
     "name": "stdout",
     "output_type": "stream",
     "text": [
      "Metrics saved to ./checkpoints_xgb_100/metrics_fold9_100.json\n",
      "Model for fold 9 saved to ./checkpoints_xgb_100/model_fold9_100.joblib\n",
      "\n",
      "Fold 10/30\n",
      "Before preprocessing: X_train_fold shape: (151171, 83), X_valid_fold shape: (16796, 83)\n"
     ]
    },
    {
     "name": "stdout",
     "output_type": "stream",
     "text": [
      "After preprocessing: X_train_fold shape: (151171, 94), X_valid_fold shape: (16796, 94)\n"
     ]
    },
    {
     "name": "stdout",
     "output_type": "stream",
     "text": [
      "Training Balanced Accuracy: 0.9749\n",
      "Validation Balanced Accuracy: 0.9445\n",
      "Training Accuracy: 0.9996\n",
      "Validation Accuracy: 0.9982\n",
      "Training Macro F1 Score: 0.9859\n",
      "Validation Macro F1 Score: 0.9522\n",
      "Training Precision (Macro): 0.9989\n",
      "Validation Precision (Macro): 0.9765\n",
      "Training Recall (Macro): 0.9749\n",
      "Validation Recall (Macro): 0.9445\n",
      "Training ROC AUC Score: 1.0000\n",
      "Validation ROC AUC Score: 0.9999\n"
     ]
    },
    {
     "name": "stdout",
     "output_type": "stream",
     "text": [
      "Metrics saved to ./checkpoints_xgb_100/metrics_fold10_100.json\n",
      "Model for fold 10 saved to ./checkpoints_xgb_100/model_fold10_100.joblib\n",
      "\n",
      "Fold 11/30\n",
      "Before preprocessing: X_train_fold shape: (151170, 83), X_valid_fold shape: (16797, 83)\n"
     ]
    },
    {
     "name": "stdout",
     "output_type": "stream",
     "text": [
      "After preprocessing: X_train_fold shape: (151170, 94), X_valid_fold shape: (16797, 94)\n"
     ]
    },
    {
     "name": "stdout",
     "output_type": "stream",
     "text": [
      "Training Balanced Accuracy: 0.9693\n",
      "Validation Balanced Accuracy: 0.9941\n",
      "Training Accuracy: 0.9997\n",
      "Validation Accuracy: 0.9990\n",
      "Training Macro F1 Score: 0.9827\n",
      "Validation Macro F1 Score: 0.9963\n",
      "Training Precision (Macro): 0.9992\n",
      "Validation Precision (Macro): 0.9986\n",
      "Training Recall (Macro): 0.9693\n",
      "Validation Recall (Macro): 0.9941\n",
      "Training ROC AUC Score: 1.0000\n",
      "Validation ROC AUC Score: 1.0000\n"
     ]
    },
    {
     "name": "stdout",
     "output_type": "stream",
     "text": [
      "Metrics saved to ./checkpoints_xgb_100/metrics_fold11_100.json\n",
      "Best model updated and saved to ./checkpoints_xgb_100/best_xgb_model_100.joblib with Macro F1: 0.9963\n",
      "Model for fold 11 saved to ./checkpoints_xgb_100/model_fold11_100.joblib\n",
      "\n",
      "Fold 12/30\n",
      "Before preprocessing: X_train_fold shape: (151170, 83), X_valid_fold shape: (16797, 83)\n"
     ]
    },
    {
     "name": "stdout",
     "output_type": "stream",
     "text": [
      "After preprocessing: X_train_fold shape: (151170, 94), X_valid_fold shape: (16797, 94)\n"
     ]
    },
    {
     "name": "stdout",
     "output_type": "stream",
     "text": [
      "Training Balanced Accuracy: 0.9718\n",
      "Validation Balanced Accuracy: 0.9836\n",
      "Training Accuracy: 0.9996\n",
      "Validation Accuracy: 0.9982\n",
      "Training Macro F1 Score: 0.9842\n",
      "Validation Macro F1 Score: 0.9890\n",
      "Training Precision (Macro): 0.9990\n",
      "Validation Precision (Macro): 0.9954\n",
      "Training Recall (Macro): 0.9718\n",
      "Validation Recall (Macro): 0.9836\n",
      "Training ROC AUC Score: 1.0000\n",
      "Validation ROC AUC Score: 1.0000\n"
     ]
    },
    {
     "name": "stdout",
     "output_type": "stream",
     "text": [
      "Metrics saved to ./checkpoints_xgb_100/metrics_fold12_100.json\n",
      "Model for fold 12 saved to ./checkpoints_xgb_100/model_fold12_100.joblib\n",
      "\n",
      "Fold 13/30\n",
      "Before preprocessing: X_train_fold shape: (151170, 83), X_valid_fold shape: (16797, 83)\n"
     ]
    },
    {
     "name": "stdout",
     "output_type": "stream",
     "text": [
      "After preprocessing: X_train_fold shape: (151170, 94), X_valid_fold shape: (16797, 94)\n"
     ]
    },
    {
     "name": "stdout",
     "output_type": "stream",
     "text": [
      "Training Balanced Accuracy: 0.9767\n",
      "Validation Balanced Accuracy: 0.9185\n",
      "Training Accuracy: 0.9997\n",
      "Validation Accuracy: 0.9987\n",
      "Training Macro F1 Score: 0.9868\n",
      "Validation Macro F1 Score: 0.9196\n",
      "Training Precision (Macro): 0.9990\n",
      "Validation Precision (Macro): 0.9208\n",
      "Training Recall (Macro): 0.9767\n",
      "Validation Recall (Macro): 0.9185\n",
      "Training ROC AUC Score: 1.0000\n",
      "Validation ROC AUC Score: 0.9999\n"
     ]
    },
    {
     "name": "stdout",
     "output_type": "stream",
     "text": [
      "Metrics saved to ./checkpoints_xgb_100/metrics_fold13_100.json\n",
      "Model for fold 13 saved to ./checkpoints_xgb_100/model_fold13_100.joblib\n",
      "\n",
      "Fold 14/30\n",
      "Before preprocessing: X_train_fold shape: (151170, 83), X_valid_fold shape: (16797, 83)\n"
     ]
    },
    {
     "name": "stdout",
     "output_type": "stream",
     "text": [
      "After preprocessing: X_train_fold shape: (151170, 93), X_valid_fold shape: (16797, 93)\n"
     ]
    },
    {
     "name": "stdout",
     "output_type": "stream",
     "text": [
      "Training Balanced Accuracy: 0.9687\n",
      "Validation Balanced Accuracy: 0.9427\n",
      "Training Accuracy: 0.9997\n",
      "Validation Accuracy: 0.9987\n",
      "Training Macro F1 Score: 0.9824\n",
      "Validation Macro F1 Score: 0.9565\n",
      "Training Precision (Macro): 0.9992\n",
      "Validation Precision (Macro): 0.9959\n",
      "Training Recall (Macro): 0.9687\n",
      "Validation Recall (Macro): 0.9427\n",
      "Training ROC AUC Score: 1.0000\n",
      "Validation ROC AUC Score: 1.0000\n"
     ]
    },
    {
     "name": "stdout",
     "output_type": "stream",
     "text": [
      "Metrics saved to ./checkpoints_xgb_100/metrics_fold14_100.json\n",
      "Model for fold 14 saved to ./checkpoints_xgb_100/model_fold14_100.joblib\n",
      "\n",
      "Fold 15/30\n",
      "Before preprocessing: X_train_fold shape: (151170, 83), X_valid_fold shape: (16797, 83)\n"
     ]
    },
    {
     "name": "stdout",
     "output_type": "stream",
     "text": [
      "After preprocessing: X_train_fold shape: (151170, 94), X_valid_fold shape: (16797, 94)\n"
     ]
    },
    {
     "name": "stdout",
     "output_type": "stream",
     "text": [
      "Training Balanced Accuracy: 0.9706\n",
      "Validation Balanced Accuracy: 0.9424\n",
      "Training Accuracy: 0.9996\n",
      "Validation Accuracy: 0.9990\n",
      "Training Macro F1 Score: 0.9820\n",
      "Validation Macro F1 Score: 0.9493\n",
      "Training Precision (Macro): 0.9952\n",
      "Validation Precision (Macro): 0.9588\n",
      "Training Recall (Macro): 0.9706\n",
      "Validation Recall (Macro): 0.9424\n",
      "Training ROC AUC Score: 1.0000\n",
      "Validation ROC AUC Score: 1.0000\n"
     ]
    },
    {
     "name": "stdout",
     "output_type": "stream",
     "text": [
      "Metrics saved to ./checkpoints_xgb_100/metrics_fold15_100.json\n",
      "Model for fold 15 saved to ./checkpoints_xgb_100/model_fold15_100.joblib\n",
      "\n",
      "Fold 16/30\n",
      "Before preprocessing: X_train_fold shape: (151170, 83), X_valid_fold shape: (16797, 83)\n"
     ]
    },
    {
     "name": "stdout",
     "output_type": "stream",
     "text": [
      "After preprocessing: X_train_fold shape: (151170, 94), X_valid_fold shape: (16797, 94)\n"
     ]
    },
    {
     "name": "stdout",
     "output_type": "stream",
     "text": [
      "Training Balanced Accuracy: 0.9745\n",
      "Validation Balanced Accuracy: 0.9577\n",
      "Training Accuracy: 0.9997\n",
      "Validation Accuracy: 0.9986\n",
      "Training Macro F1 Score: 0.9831\n",
      "Validation Macro F1 Score: 0.9561\n",
      "Training Precision (Macro): 0.9929\n",
      "Validation Precision (Macro): 0.9574\n",
      "Training Recall (Macro): 0.9745\n",
      "Validation Recall (Macro): 0.9577\n",
      "Training ROC AUC Score: 1.0000\n",
      "Validation ROC AUC Score: 0.9999\n"
     ]
    },
    {
     "name": "stdout",
     "output_type": "stream",
     "text": [
      "Metrics saved to ./checkpoints_xgb_100/metrics_fold16_100.json\n",
      "Model for fold 16 saved to ./checkpoints_xgb_100/model_fold16_100.joblib\n",
      "\n",
      "Fold 17/30\n",
      "Before preprocessing: X_train_fold shape: (151170, 83), X_valid_fold shape: (16797, 83)\n"
     ]
    },
    {
     "name": "stdout",
     "output_type": "stream",
     "text": [
      "After preprocessing: X_train_fold shape: (151170, 94), X_valid_fold shape: (16797, 94)\n"
     ]
    },
    {
     "name": "stdout",
     "output_type": "stream",
     "text": [
      "Training Balanced Accuracy: 0.9740\n",
      "Validation Balanced Accuracy: 0.9437\n",
      "Training Accuracy: 0.9997\n",
      "Validation Accuracy: 0.9989\n",
      "Training Macro F1 Score: 0.9856\n",
      "Validation Macro F1 Score: 0.9504\n",
      "Training Precision (Macro): 0.9991\n",
      "Validation Precision (Macro): 0.9597\n",
      "Training Recall (Macro): 0.9740\n",
      "Validation Recall (Macro): 0.9437\n",
      "Training ROC AUC Score: 1.0000\n",
      "Validation ROC AUC Score: 0.9999\n"
     ]
    },
    {
     "name": "stdout",
     "output_type": "stream",
     "text": [
      "Metrics saved to ./checkpoints_xgb_100/metrics_fold17_100.json\n",
      "Model for fold 17 saved to ./checkpoints_xgb_100/model_fold17_100.joblib\n",
      "\n",
      "Fold 18/30\n",
      "Before preprocessing: X_train_fold shape: (151171, 83), X_valid_fold shape: (16796, 83)\n"
     ]
    },
    {
     "name": "stdout",
     "output_type": "stream",
     "text": [
      "After preprocessing: X_train_fold shape: (151171, 94), X_valid_fold shape: (16796, 94)\n"
     ]
    },
    {
     "name": "stdout",
     "output_type": "stream",
     "text": [
      "Training Balanced Accuracy: 0.9782\n",
      "Validation Balanced Accuracy: 0.9267\n",
      "Training Accuracy: 0.9997\n",
      "Validation Accuracy: 0.9989\n",
      "Training Macro F1 Score: 0.9880\n",
      "Validation Macro F1 Score: 0.9527\n",
      "Training Precision (Macro): 0.9991\n",
      "Validation Precision (Macro): 0.9969\n",
      "Training Recall (Macro): 0.9782\n",
      "Validation Recall (Macro): 0.9267\n",
      "Training ROC AUC Score: 1.0000\n",
      "Validation ROC AUC Score: 1.0000\n"
     ]
    },
    {
     "name": "stdout",
     "output_type": "stream",
     "text": [
      "Metrics saved to ./checkpoints_xgb_100/metrics_fold18_100.json\n",
      "Model for fold 18 saved to ./checkpoints_xgb_100/model_fold18_100.joblib\n",
      "\n",
      "Fold 19/30\n",
      "Before preprocessing: X_train_fold shape: (151171, 83), X_valid_fold shape: (16796, 83)\n"
     ]
    },
    {
     "name": "stdout",
     "output_type": "stream",
     "text": [
      "After preprocessing: X_train_fold shape: (151171, 94), X_valid_fold shape: (16796, 94)\n"
     ]
    },
    {
     "name": "stdout",
     "output_type": "stream",
     "text": [
      "Training Balanced Accuracy: 0.9750\n",
      "Validation Balanced Accuracy: 0.9615\n",
      "Training Accuracy: 0.9997\n",
      "Validation Accuracy: 0.9985\n",
      "Training Macro F1 Score: 0.9860\n",
      "Validation Macro F1 Score: 0.9763\n",
      "Training Precision (Macro): 0.9988\n",
      "Validation Precision (Macro): 0.9967\n",
      "Training Recall (Macro): 0.9750\n",
      "Validation Recall (Macro): 0.9615\n",
      "Training ROC AUC Score: 1.0000\n",
      "Validation ROC AUC Score: 1.0000\n"
     ]
    },
    {
     "name": "stdout",
     "output_type": "stream",
     "text": [
      "Metrics saved to ./checkpoints_xgb_100/metrics_fold19_100.json\n",
      "Model for fold 19 saved to ./checkpoints_xgb_100/model_fold19_100.joblib\n",
      "\n",
      "Fold 20/30\n",
      "Before preprocessing: X_train_fold shape: (151171, 83), X_valid_fold shape: (16796, 83)\n"
     ]
    },
    {
     "name": "stdout",
     "output_type": "stream",
     "text": [
      "After preprocessing: X_train_fold shape: (151171, 94), X_valid_fold shape: (16796, 94)\n"
     ]
    },
    {
     "name": "stdout",
     "output_type": "stream",
     "text": [
      "Training Balanced Accuracy: 0.9679\n",
      "Validation Balanced Accuracy: 0.9676\n",
      "Training Accuracy: 0.9996\n",
      "Validation Accuracy: 0.9990\n",
      "Training Macro F1 Score: 0.9818\n",
      "Validation Macro F1 Score: 0.9803\n",
      "Training Precision (Macro): 0.9989\n",
      "Validation Precision (Macro): 0.9982\n",
      "Training Recall (Macro): 0.9679\n",
      "Validation Recall (Macro): 0.9676\n",
      "Training ROC AUC Score: 1.0000\n",
      "Validation ROC AUC Score: 1.0000\n"
     ]
    },
    {
     "name": "stdout",
     "output_type": "stream",
     "text": [
      "Metrics saved to ./checkpoints_xgb_100/metrics_fold20_100.json\n",
      "Model for fold 20 saved to ./checkpoints_xgb_100/model_fold20_100.joblib\n",
      "\n",
      "Fold 21/30\n",
      "Before preprocessing: X_train_fold shape: (151170, 83), X_valid_fold shape: (16797, 83)\n"
     ]
    },
    {
     "name": "stdout",
     "output_type": "stream",
     "text": [
      "After preprocessing: X_train_fold shape: (151170, 94), X_valid_fold shape: (16797, 94)\n"
     ]
    },
    {
     "name": "stdout",
     "output_type": "stream",
     "text": [
      "Training Balanced Accuracy: 0.9786\n",
      "Validation Balanced Accuracy: 0.9850\n",
      "Training Accuracy: 0.9997\n",
      "Validation Accuracy: 0.9982\n",
      "Training Macro F1 Score: 0.9868\n",
      "Validation Macro F1 Score: 0.9796\n",
      "Training Precision (Macro): 0.9961\n",
      "Validation Precision (Macro): 0.9774\n",
      "Training Recall (Macro): 0.9786\n",
      "Validation Recall (Macro): 0.9850\n",
      "Training ROC AUC Score: 1.0000\n",
      "Validation ROC AUC Score: 1.0000\n"
     ]
    },
    {
     "name": "stdout",
     "output_type": "stream",
     "text": [
      "Metrics saved to ./checkpoints_xgb_100/metrics_fold21_100.json\n",
      "Model for fold 21 saved to ./checkpoints_xgb_100/model_fold21_100.joblib\n",
      "\n",
      "Fold 22/30\n",
      "Before preprocessing: X_train_fold shape: (151170, 83), X_valid_fold shape: (16797, 83)\n"
     ]
    },
    {
     "name": "stdout",
     "output_type": "stream",
     "text": [
      "After preprocessing: X_train_fold shape: (151170, 94), X_valid_fold shape: (16797, 94)\n"
     ]
    },
    {
     "name": "stdout",
     "output_type": "stream",
     "text": [
      "Training Balanced Accuracy: 0.9717\n",
      "Validation Balanced Accuracy: 0.9563\n",
      "Training Accuracy: 0.9996\n",
      "Validation Accuracy: 0.9987\n",
      "Training Macro F1 Score: 0.9823\n",
      "Validation Macro F1 Score: 0.9563\n",
      "Training Precision (Macro): 0.9947\n",
      "Validation Precision (Macro): 0.9721\n",
      "Training Recall (Macro): 0.9717\n",
      "Validation Recall (Macro): 0.9563\n",
      "Training ROC AUC Score: 1.0000\n",
      "Validation ROC AUC Score: 1.0000\n"
     ]
    },
    {
     "name": "stdout",
     "output_type": "stream",
     "text": [
      "Metrics saved to ./checkpoints_xgb_100/metrics_fold22_100.json\n",
      "Model for fold 22 saved to ./checkpoints_xgb_100/model_fold22_100.joblib\n",
      "\n",
      "Fold 23/30\n",
      "Before preprocessing: X_train_fold shape: (151170, 83), X_valid_fold shape: (16797, 83)\n"
     ]
    },
    {
     "name": "stdout",
     "output_type": "stream",
     "text": [
      "After preprocessing: X_train_fold shape: (151170, 94), X_valid_fold shape: (16797, 94)\n"
     ]
    },
    {
     "name": "stdout",
     "output_type": "stream",
     "text": [
      "Training Balanced Accuracy: 0.9706\n",
      "Validation Balanced Accuracy: 0.9892\n",
      "Training Accuracy: 0.9996\n",
      "Validation Accuracy: 0.9992\n",
      "Training Macro F1 Score: 0.9833\n",
      "Validation Macro F1 Score: 0.9934\n",
      "Training Precision (Macro): 0.9984\n",
      "Validation Precision (Macro): 0.9980\n",
      "Training Recall (Macro): 0.9706\n",
      "Validation Recall (Macro): 0.9892\n",
      "Training ROC AUC Score: 1.0000\n",
      "Validation ROC AUC Score: 1.0000\n"
     ]
    },
    {
     "name": "stdout",
     "output_type": "stream",
     "text": [
      "Metrics saved to ./checkpoints_xgb_100/metrics_fold23_100.json\n",
      "Model for fold 23 saved to ./checkpoints_xgb_100/model_fold23_100.joblib\n",
      "\n",
      "Fold 24/30\n",
      "Before preprocessing: X_train_fold shape: (151170, 83), X_valid_fold shape: (16797, 83)\n"
     ]
    },
    {
     "name": "stdout",
     "output_type": "stream",
     "text": [
      "After preprocessing: X_train_fold shape: (151170, 94), X_valid_fold shape: (16797, 94)\n"
     ]
    },
    {
     "name": "stdout",
     "output_type": "stream",
     "text": [
      "Training Balanced Accuracy: 0.9712\n",
      "Validation Balanced Accuracy: 0.9950\n",
      "Training Accuracy: 0.9996\n",
      "Validation Accuracy: 0.9989\n",
      "Training Macro F1 Score: 0.9838\n",
      "Validation Macro F1 Score: 0.9955\n",
      "Training Precision (Macro): 0.9988\n",
      "Validation Precision (Macro): 0.9961\n",
      "Training Recall (Macro): 0.9712\n",
      "Validation Recall (Macro): 0.9950\n",
      "Training ROC AUC Score: 1.0000\n",
      "Validation ROC AUC Score: 1.0000\n"
     ]
    },
    {
     "name": "stdout",
     "output_type": "stream",
     "text": [
      "Metrics saved to ./checkpoints_xgb_100/metrics_fold24_100.json\n",
      "Model for fold 24 saved to ./checkpoints_xgb_100/model_fold24_100.joblib\n",
      "\n",
      "Fold 25/30\n",
      "Before preprocessing: X_train_fold shape: (151170, 83), X_valid_fold shape: (16797, 83)\n"
     ]
    },
    {
     "name": "stdout",
     "output_type": "stream",
     "text": [
      "After preprocessing: X_train_fold shape: (151170, 94), X_valid_fold shape: (16797, 94)\n"
     ]
    },
    {
     "name": "stdout",
     "output_type": "stream",
     "text": [
      "Training Balanced Accuracy: 0.9657\n",
      "Validation Balanced Accuracy: 0.9457\n",
      "Training Accuracy: 0.9996\n",
      "Validation Accuracy: 0.9989\n",
      "Training Macro F1 Score: 0.9797\n",
      "Validation Macro F1 Score: 0.9568\n",
      "Training Precision (Macro): 0.9977\n",
      "Validation Precision (Macro): 0.9937\n",
      "Training Recall (Macro): 0.9657\n",
      "Validation Recall (Macro): 0.9457\n",
      "Training ROC AUC Score: 1.0000\n",
      "Validation ROC AUC Score: 1.0000\n"
     ]
    },
    {
     "name": "stdout",
     "output_type": "stream",
     "text": [
      "Metrics saved to ./checkpoints_xgb_100/metrics_fold25_100.json\n",
      "Model for fold 25 saved to ./checkpoints_xgb_100/model_fold25_100.joblib\n",
      "\n",
      "Fold 26/30\n",
      "Before preprocessing: X_train_fold shape: (151170, 83), X_valid_fold shape: (16797, 83)\n"
     ]
    },
    {
     "name": "stdout",
     "output_type": "stream",
     "text": [
      "After preprocessing: X_train_fold shape: (151170, 94), X_valid_fold shape: (16797, 94)\n"
     ]
    },
    {
     "name": "stdout",
     "output_type": "stream",
     "text": [
      "Training Balanced Accuracy: 0.9755\n",
      "Validation Balanced Accuracy: 0.9443\n",
      "Training Accuracy: 0.9997\n",
      "Validation Accuracy: 0.9986\n",
      "Training Macro F1 Score: 0.9864\n",
      "Validation Macro F1 Score: 0.9648\n",
      "Training Precision (Macro): 0.9992\n",
      "Validation Precision (Macro): 0.9955\n",
      "Training Recall (Macro): 0.9755\n",
      "Validation Recall (Macro): 0.9443\n",
      "Training ROC AUC Score: 1.0000\n",
      "Validation ROC AUC Score: 1.0000\n"
     ]
    },
    {
     "name": "stdout",
     "output_type": "stream",
     "text": [
      "Metrics saved to ./checkpoints_xgb_100/metrics_fold26_100.json\n",
      "Model for fold 26 saved to ./checkpoints_xgb_100/model_fold26_100.joblib\n",
      "\n",
      "Fold 27/30\n",
      "Before preprocessing: X_train_fold shape: (151170, 83), X_valid_fold shape: (16797, 83)\n"
     ]
    },
    {
     "name": "stdout",
     "output_type": "stream",
     "text": [
      "After preprocessing: X_train_fold shape: (151170, 94), X_valid_fold shape: (16797, 94)\n"
     ]
    },
    {
     "name": "stdout",
     "output_type": "stream",
     "text": [
      "Training Balanced Accuracy: 0.9685\n",
      "Validation Balanced Accuracy: 0.9465\n",
      "Training Accuracy: 0.9997\n",
      "Validation Accuracy: 0.9989\n",
      "Training Macro F1 Score: 0.9822\n",
      "Validation Macro F1 Score: 0.9590\n",
      "Training Precision (Macro): 0.9992\n",
      "Validation Precision (Macro): 0.9972\n",
      "Training Recall (Macro): 0.9685\n",
      "Validation Recall (Macro): 0.9465\n",
      "Training ROC AUC Score: 1.0000\n",
      "Validation ROC AUC Score: 1.0000\n"
     ]
    },
    {
     "name": "stdout",
     "output_type": "stream",
     "text": [
      "Metrics saved to ./checkpoints_xgb_100/metrics_fold27_100.json\n",
      "Model for fold 27 saved to ./checkpoints_xgb_100/model_fold27_100.joblib\n",
      "\n",
      "Fold 28/30\n",
      "Before preprocessing: X_train_fold shape: (151171, 83), X_valid_fold shape: (16796, 83)\n"
     ]
    },
    {
     "name": "stdout",
     "output_type": "stream",
     "text": [
      "After preprocessing: X_train_fold shape: (151171, 94), X_valid_fold shape: (16796, 94)\n"
     ]
    },
    {
     "name": "stdout",
     "output_type": "stream",
     "text": [
      "Training Balanced Accuracy: 0.9771\n",
      "Validation Balanced Accuracy: 0.9600\n",
      "Training Accuracy: 0.9997\n",
      "Validation Accuracy: 0.9987\n",
      "Training Macro F1 Score: 0.9858\n",
      "Validation Macro F1 Score: 0.9650\n",
      "Training Precision (Macro): 0.9956\n",
      "Validation Precision (Macro): 0.9709\n",
      "Training Recall (Macro): 0.9771\n",
      "Validation Recall (Macro): 0.9600\n",
      "Training ROC AUC Score: 1.0000\n",
      "Validation ROC AUC Score: 1.0000\n"
     ]
    },
    {
     "name": "stdout",
     "output_type": "stream",
     "text": [
      "Metrics saved to ./checkpoints_xgb_100/metrics_fold28_100.json\n",
      "Model for fold 28 saved to ./checkpoints_xgb_100/model_fold28_100.joblib\n",
      "\n",
      "Fold 29/30\n",
      "Before preprocessing: X_train_fold shape: (151171, 83), X_valid_fold shape: (16796, 83)\n"
     ]
    },
    {
     "name": "stdout",
     "output_type": "stream",
     "text": [
      "After preprocessing: X_train_fold shape: (151171, 93), X_valid_fold shape: (16796, 93)\n"
     ]
    },
    {
     "name": "stdout",
     "output_type": "stream",
     "text": [
      "Training Balanced Accuracy: 0.9746\n",
      "Validation Balanced Accuracy: 0.9211\n",
      "Training Accuracy: 0.9997\n",
      "Validation Accuracy: 0.9978\n",
      "Training Macro F1 Score: 0.9859\n",
      "Validation Macro F1 Score: 0.9367\n",
      "Training Precision (Macro): 0.9990\n",
      "Validation Precision (Macro): 0.9578\n",
      "Training Recall (Macro): 0.9746\n",
      "Validation Recall (Macro): 0.9211\n",
      "Training ROC AUC Score: 1.0000\n",
      "Validation ROC AUC Score: 0.9999\n"
     ]
    },
    {
     "name": "stdout",
     "output_type": "stream",
     "text": [
      "Metrics saved to ./checkpoints_xgb_100/metrics_fold29_100.json\n",
      "Model for fold 29 saved to ./checkpoints_xgb_100/model_fold29_100.joblib\n",
      "\n",
      "Fold 30/30\n",
      "Before preprocessing: X_train_fold shape: (151171, 83), X_valid_fold shape: (16796, 83)\n"
     ]
    },
    {
     "name": "stdout",
     "output_type": "stream",
     "text": [
      "After preprocessing: X_train_fold shape: (151171, 94), X_valid_fold shape: (16796, 94)\n"
     ]
    },
    {
     "name": "stdout",
     "output_type": "stream",
     "text": [
      "Training Balanced Accuracy: 0.9757\n",
      "Validation Balanced Accuracy: 0.8994\n",
      "Training Accuracy: 0.9997\n",
      "Validation Accuracy: 0.9986\n",
      "Training Macro F1 Score: 0.9865\n",
      "Validation Macro F1 Score: 0.9289\n",
      "Training Precision (Macro): 0.9992\n",
      "Validation Precision (Macro): 0.9973\n",
      "Training Recall (Macro): 0.9757\n",
      "Validation Recall (Macro): 0.8994\n",
      "Training ROC AUC Score: 1.0000\n",
      "Validation ROC AUC Score: 0.9999\n"
     ]
    },
    {
     "name": "stdout",
     "output_type": "stream",
     "text": [
      "Metrics saved to ./checkpoints_xgb_100/metrics_fold30_100.json\n",
      "Model for fold 30 saved to ./checkpoints_xgb_100/model_fold30_100.joblib\n",
      "Cross-validation completed successfully.\n"
     ]
    }
   ],
   "source": [
    "# Cell 6: Run Cross-Validation and Save the Best Model\n",
    "\n",
    "from sklearn.model_selection import RepeatedStratifiedKFold\n",
    "from sklearn.metrics import (\n",
    "    f1_score,\n",
    "    balanced_accuracy_score,\n",
    "    roc_auc_score,\n",
    "    accuracy_score,\n",
    "    precision_score,\n",
    "    recall_score\n",
    ")\n",
    "\n",
    "# Initialize cross-validation\n",
    "rskf = RepeatedStratifiedKFold(n_splits=N_FOLDS, n_repeats=N_REPEATS, random_state=SEED)\n",
    "\n",
    "# Variables to track the best model\n",
    "best_macro_f1 = -float('inf')\n",
    "best_model_path = os.path.join(CHECKPOINT_DIR, f\"best_xgb_model{num_iters}.joblib\")\n",
    "\n",
    "# Iterate over each fold\n",
    "for fold, (train_idx, val_idx) in enumerate(rskf.split(X_train, Y_train), 1): # enumerate starts from 1\n",
    "    print(f\"\\nFold {fold}/{N_FOLDS * N_REPEATS}\")\n",
    "    \n",
    "    # Split the data\n",
    "    X_train_fold = X_train.iloc[train_idx].copy()\n",
    "    Y_train_fold = Y_train[train_idx].copy()\n",
    "    X_valid_fold = X_train.iloc[val_idx].copy()\n",
    "    Y_valid_fold = Y_train[val_idx].copy()\n",
    "    \n",
    "    # Print shapes before preprocessing\n",
    "    print(f\"Before preprocessing: X_train_fold shape: {X_train_fold.shape}, X_valid_fold shape: {X_valid_fold.shape}\")\n",
    "    \n",
    "    # Fit the pipeline on the training fold\n",
    "    model_pipeline.fit(X_train_fold, Y_train_fold)\n",
    "    \n",
    "    # Access the preprocessor from the pipeline\n",
    "    preprocessor = model_pipeline.named_steps['preprocessor']\n",
    "    \n",
    "    # Transform the data to get the shapes after preprocessing\n",
    "    X_train_transformed = preprocessor.transform(X_train_fold)\n",
    "    X_valid_transformed = preprocessor.transform(X_valid_fold)\n",
    "    \n",
    "    # Print shapes after preprocessing\n",
    "    print(f\"After preprocessing: X_train_fold shape: {X_train_transformed.shape}, X_valid_fold shape: {X_valid_transformed.shape}\")\n",
    "    \n",
    "    # Predict on training and validation folds\n",
    "    Y_train_pred = model_pipeline.predict(X_train_fold)\n",
    "    Y_train_pred_proba = model_pipeline.predict_proba(X_train_fold)\n",
    "    \n",
    "    Y_valid_pred = model_pipeline.predict(X_valid_fold)\n",
    "    Y_valid_pred_proba = model_pipeline.predict_proba(X_valid_fold)\n",
    "    \n",
    "    # Compute training metrics\n",
    "    train_bal_acc = balanced_accuracy_score(Y_train_fold, Y_train_pred)\n",
    "    train_accuracy = accuracy_score(Y_train_fold, Y_train_pred)\n",
    "    train_macro_f1 = f1_score(Y_train_fold, Y_train_pred, average='macro')\n",
    "    train_precision = precision_score(Y_train_fold, Y_train_pred, average='macro', zero_division=0)\n",
    "    train_recall = recall_score(Y_train_fold, Y_train_pred, average='macro', zero_division=0)\n",
    "    train_auc = roc_auc_score(\n",
    "        label_binarize(Y_train_fold, classes=np.arange(CLASSES)),\n",
    "        Y_train_pred_proba,\n",
    "        average='macro',\n",
    "        multi_class='ovo'\n",
    "    )\n",
    "    \n",
    "    # Compute validation metrics\n",
    "    val_bal_acc = balanced_accuracy_score(Y_valid_fold, Y_valid_pred)\n",
    "    val_accuracy = accuracy_score(Y_valid_fold, Y_valid_pred)\n",
    "    val_macro_f1 = f1_score(Y_valid_fold, Y_valid_pred, average='macro')\n",
    "    val_precision = precision_score(Y_valid_fold, Y_valid_pred, average='macro', zero_division=0)\n",
    "    val_recall = recall_score(Y_valid_fold, Y_valid_pred, average='macro', zero_division=0)\n",
    "    val_auc = roc_auc_score(\n",
    "        label_binarize(Y_valid_fold, classes=np.arange(CLASSES)),\n",
    "        Y_valid_pred_proba,\n",
    "        average='macro',\n",
    "        multi_class='ovo'\n",
    "    )\n",
    "    \n",
    "    print(f\"Training Balanced Accuracy: {train_bal_acc:.4f}\")\n",
    "    print(f\"Validation Balanced Accuracy: {val_bal_acc:.4f}\")\n",
    "    print(f\"Training Accuracy: {train_accuracy:.4f}\")\n",
    "    print(f\"Validation Accuracy: {val_accuracy:.4f}\")\n",
    "    print(f\"Training Macro F1 Score: {train_macro_f1:.4f}\")\n",
    "    print(f\"Validation Macro F1 Score: {val_macro_f1:.4f}\")\n",
    "    print(f\"Training Precision (Macro): {train_precision:.4f}\")\n",
    "    print(f\"Validation Precision (Macro): {val_precision:.4f}\")\n",
    "    print(f\"Training Recall (Macro): {train_recall:.4f}\")\n",
    "    print(f\"Validation Recall (Macro): {val_recall:.4f}\")\n",
    "    print(f\"Training ROC AUC Score: {train_auc:.4f}\")\n",
    "    print(f\"Validation ROC AUC Score: {val_auc:.4f}\")\n",
    "    \n",
    "    # Save metrics for this fold, including predictions\n",
    "    metrics = {\n",
    "        \"train_balanced_accuracy\": train_bal_acc,\n",
    "        \"train_accuracy\": train_accuracy,\n",
    "        \"train_macro_f1\": train_macro_f1,\n",
    "        \"train_precision_macro\": train_precision,\n",
    "        \"train_recall_macro\": train_recall,\n",
    "        \"train_auc\": train_auc,\n",
    "        \"validation_balanced_accuracy\": val_bal_acc,\n",
    "        \"validation_accuracy\": val_accuracy,\n",
    "        \"validation_macro_f1\": val_macro_f1,\n",
    "        \"validation_precision_macro\": val_precision,\n",
    "        \"validation_recall_macro\": val_recall,\n",
    "        \"validation_auc\": val_auc,\n",
    "        \"val_y_true\": Y_valid_fold.tolist(),\n",
    "        \"val_y_pred\": Y_valid_pred.tolist(),\n",
    "        \"val_y_score\": Y_valid_pred_proba.tolist()\n",
    "    }\n",
    "    metrics_file = os.path.join(CHECKPOINT_DIR, f\"metrics_fold{fold}{num_iters}.json\")\n",
    "    with open(metrics_file, 'w') as f:\n",
    "        json.dump(metrics, f, indent=4)\n",
    "    print(f\"Metrics saved to {metrics_file}\")\n",
    "    \n",
    "    # Check if this fold's model is the best so far\n",
    "    if val_macro_f1 > best_macro_f1:\n",
    "        best_macro_f1 = val_macro_f1\n",
    "        # Save the model\n",
    "        joblib.dump(model_pipeline, best_model_path)\n",
    "        print(f\"Best model updated and saved to {best_model_path} with Macro F1: {best_macro_f1:.4f}\")\n",
    "    \n",
    "    # Optional: Save the model for each fold\n",
    "    model_path = os.path.join(CHECKPOINT_DIR, f\"model_fold{fold}{num_iters}.joblib\")\n",
    "    joblib.dump(model_pipeline, model_path)\n",
    "    print(f\"Model for fold {fold} saved to {model_path}\")\n",
    "    \n",
    "    # Clean up\n",
    "    del X_train_fold, Y_train_fold, X_valid_fold, Y_valid_fold, Y_train_pred, Y_train_pred_proba, Y_valid_pred, Y_valid_pred_proba\n",
    "    gc.collect()\n",
    "    \n",
    "print(\"Cross-validation completed successfully.\")"
   ]
  },
  {
   "cell_type": "code",
   "execution_count": 26,
   "metadata": {
    "execution": {
     "iopub.execute_input": "2025-08-12T08:10:47.449642Z",
     "iopub.status.busy": "2025-08-12T08:10:47.449470Z",
     "iopub.status.idle": "2025-08-12T08:10:47.455379Z",
     "shell.execute_reply": "2025-08-12T08:10:47.454875Z"
    }
   },
   "outputs": [],
   "source": [
    "# Function to load all fold metrics\n",
    "def load_all_fold_metrics(n_folds, metrics_per_fold_path):\n",
    "    all_train_metrics = []\n",
    "    all_val_metrics = []\n",
    "    all_y_true = []\n",
    "    all_y_pred = []\n",
    "    all_y_score = []\n",
    "\n",
    "    for fold in range(n_folds):\n",
    "        fold = fold + 1\n",
    "        metrics_file = os.path.join(metrics_per_fold_path, f\"metrics_fold{fold}{num_iters}.json\")\n",
    "        if os.path.exists(metrics_file):\n",
    "            with open(metrics_file, 'r') as f:\n",
    "                metrics = json.load(f)\n",
    "\n",
    "                # Extract the metrics\n",
    "                train_metrics = {\n",
    "                    'balanced_accuracy': metrics.get('train_balanced_accuracy', None),\n",
    "                    'accuracy': metrics.get('train_accuracy', None),\n",
    "                    'macro_f1': metrics.get('train_macro_f1', None),\n",
    "                    'precision_macro': metrics.get('train_precision_macro', None),\n",
    "                    'recall_macro': metrics.get('train_recall_macro', None),\n",
    "                    'auc': metrics.get('train_auc', None)\n",
    "                }\n",
    "                val_metrics = {\n",
    "                    'balanced_accuracy': metrics.get('validation_balanced_accuracy', None),\n",
    "                    'accuracy': metrics.get('validation_accuracy', None),\n",
    "                    'macro_f1': metrics.get('validation_macro_f1', None),\n",
    "                    'precision_macro': metrics.get('validation_precision_macro', None),\n",
    "                    'recall_macro': metrics.get('validation_recall_macro', None),\n",
    "                    'auc': metrics.get('validation_auc', None)\n",
    "                }\n",
    "\n",
    "                all_train_metrics.append(train_metrics)\n",
    "                all_val_metrics.append(val_metrics)\n",
    "\n",
    "                all_y_true.extend(metrics.get('val_y_true', []))\n",
    "                all_y_pred.extend(metrics.get('val_y_pred', []))\n",
    "                all_y_score.extend(metrics.get('val_y_score', []))\n",
    "        else:\n",
    "            print(f\"Metrics file for fold {fold} not found.\")\n",
    "\n",
    "    return all_train_metrics, all_val_metrics, all_y_true, all_y_pred, all_y_score\n"
   ]
  },
  {
   "cell_type": "code",
   "execution_count": 27,
   "metadata": {
    "execution": {
     "iopub.execute_input": "2025-08-12T08:10:47.456822Z",
     "iopub.status.busy": "2025-08-12T08:10:47.456657Z",
     "iopub.status.idle": "2025-08-12T08:10:47.459898Z",
     "shell.execute_reply": "2025-08-12T08:10:47.459425Z"
    }
   },
   "outputs": [],
   "source": [
    "# Function to compute mean and std of a specific metric across folds\n",
    "def mean_and_std(metrics_list, metric_name):\n",
    "    fold_values = [fold.get(metric_name) for fold in metrics_list if fold.get(metric_name) is not None]\n",
    "    mean_val = np.mean(fold_values) if fold_values else None\n",
    "    std_val = np.std(fold_values) if fold_values else None\n",
    "    return mean_val, std_val"
   ]
  },
  {
   "cell_type": "code",
   "execution_count": 28,
   "metadata": {
    "execution": {
     "iopub.execute_input": "2025-08-12T08:10:47.461400Z",
     "iopub.status.busy": "2025-08-12T08:10:47.461234Z",
     "iopub.status.idle": "2025-08-12T08:10:47.468739Z",
     "shell.execute_reply": "2025-08-12T08:10:47.468270Z"
    }
   },
   "outputs": [],
   "source": [
    "def compute_and_print_average_metrics(n_folds, metrics_per_fold_path, class_labels):\n",
    "    \"\"\"\n",
    "    Loads all fold metrics, computes average training and validation metrics,\n",
    "    and prints them in a formatted manner.\n",
    "    \n",
    "    Args:\n",
    "        n_folds (int): Total number of cross-validation folds.\n",
    "        metrics_per_fold_path (str): Directory path where fold metrics are saved.\n",
    "        class_labels (list): List of class names.\n",
    "    \"\"\"\n",
    "    # Load all fold metrics\n",
    "    all_train_metrics, all_val_metrics, all_y_true, all_y_pred, all_y_score = load_all_fold_metrics(n_folds, metrics_per_fold_path)\n",
    "\n",
    "    # Define metrics to analyze\n",
    "    metrics_to_analyze = ['balanced_accuracy', 'accuracy', 'macro_f1', 'precision_macro', 'recall_macro', 'auc']\n",
    "\n",
    "    # Initialize a dictionary to store average metrics\n",
    "    average_metrics = {}\n",
    "\n",
    "    print(\"\\n----- Average Cross-Validation Metrics -----\\n\")\n",
    "    for metric in metrics_to_analyze:\n",
    "        train_mean, train_std = mean_and_std(all_train_metrics, metric)\n",
    "        val_mean, val_std = mean_and_std(all_val_metrics, metric)\n",
    "\n",
    "        average_metrics[f\"train_{metric}\"] = (train_mean, train_std)\n",
    "        average_metrics[f\"validation_{metric}\"] = (val_mean, val_std)\n",
    "\n",
    "        # Print the metrics in the desired format\n",
    "        if train_mean is not None and train_std is not None:\n",
    "            if metric == 'precision_macro':\n",
    "                display_metric = 'Precision (Macro)'\n",
    "            elif metric == 'recall_macro':\n",
    "                display_metric = 'Recall (Macro)'\n",
    "            else:\n",
    "                display_metric = metric.capitalize().replace('_', ' ')\n",
    "            print(f\"Training {display_metric}: {train_mean:.4f} ± {train_std:.4f}\")\n",
    "        if val_mean is not None and val_std is not None:\n",
    "            if metric == 'precision_macro':\n",
    "                display_metric = 'Precision (Macro)'\n",
    "            elif metric == 'recall_macro':\n",
    "                display_metric = 'Recall (Macro)'\n",
    "            else:\n",
    "                display_metric = metric.capitalize().replace('_', ' ')\n",
    "            print(f\"Validation {display_metric}: {val_mean:.4f} ± {val_std:.4f}\")\n",
    "    print(\"\\n--------------------------------------------\\n\")\n",
    "\n",
    "    # Generate and save the classification report across all folds\n",
    "    if all_y_true and all_y_pred:\n",
    "        final_classification_report = classification_report(all_y_true, all_y_pred, target_names=class_labels, output_dict=True)\n",
    "        report_df = pd.DataFrame(final_classification_report).transpose()\n",
    "        report_file = os.path.join(metrics_per_fold_path, f\"average_classification_report{num_iters}.csv\")\n",
    "        report_df.to_csv(report_file, index=True)\n",
    "        print(\"Average Classification Report:\")\n",
    "        print(report_df)\n",
    "        print(f\"\\nClassification report saved to {report_file}\\n\")\n",
    "\n",
    "        # Generate and save the confusion matrix across all folds\n",
    "        cm = confusion_matrix(all_y_true, all_y_pred)\n",
    "        plt.figure(figsize=FIG_SIZE)\n",
    "        sns.heatmap(cm, annot=True, fmt=\"d\", cmap=\"Blues\", xticklabels=class_labels, yticklabels=class_labels)\n",
    "        plt.xlabel('Predicted')\n",
    "        plt.ylabel('Actual')\n",
    "        plt.title('Average Cross-Validation Confusion Matrix')\n",
    "        cm_file = os.path.join(metrics_per_fold_path, f'average_confusion_matrix{num_iters}.png')\n",
    "        plt.savefig(cm_file)\n",
    "        plt.show()\n",
    "        plt.close()\n",
    "        print(f\"Average Confusion Matrix saved to {cm_file}\\n\")\n",
    "    else:\n",
    "        print(\"No predictions found across folds. Skipping classification report and confusion matrix.\\n\")\n",
    "\n",
    "    # Clean up to save memory\n",
    "    del all_train_metrics, all_val_metrics, all_y_true, all_y_pred, all_y_score\n",
    "    gc.collect()"
   ]
  },
  {
   "cell_type": "code",
   "execution_count": 29,
   "metadata": {
    "execution": {
     "iopub.execute_input": "2025-08-12T08:10:47.470259Z",
     "iopub.status.busy": "2025-08-12T08:10:47.470067Z",
     "iopub.status.idle": "2025-08-12T08:10:47.478053Z",
     "shell.execute_reply": "2025-08-12T08:10:47.477583Z"
    }
   },
   "outputs": [],
   "source": [
    "def plot_roc_curves(Y_true, Y_score, class_labels, fig_size=(12, 12), save_path=f'./checkpoints_xgb{num_iters}'):\n",
    "    \"\"\"\n",
    "    Plots ROC curves for each class along with micro and macro averages.\n",
    "\n",
    "    Args:\n",
    "        Y_true (array-like): True labels.\n",
    "        Y_score (array-like): Predicted probabilities.\n",
    "        class_labels (list): List of class names.\n",
    "        fig_size (tuple): Size of the plot.\n",
    "        save_path (str): Directory path to save the ROC curve plot.\n",
    "    \"\"\"\n",
    "    n_classes = CLASSES\n",
    "    fpr = dict()\n",
    "    tpr = dict()\n",
    "    roc_auc = dict()\n",
    "\n",
    "    # Binarize the test labels\n",
    "    Y_true_bin = label_binarize(Y_true, classes=np.arange(n_classes))\n",
    "\n",
    "    # Check if the number of classes in predicted probabilities matches\n",
    "    if Y_score.shape[1] != n_classes:\n",
    "        print(f\"Y_score has shape {Y_score.shape}, expected number of classes {n_classes}\")\n",
    "        return\n",
    "\n",
    "    # Compute ROC curve and ROC area for each class\n",
    "    for i in range(n_classes):\n",
    "        fpr[i], tpr[i], _ = roc_curve(Y_true_bin[:, i], Y_score[:, i])\n",
    "        roc_auc[i] = auc(fpr[i], tpr[i])\n",
    "\n",
    "    # Compute micro-average ROC curve and ROC area\n",
    "    fpr[\"micro\"], tpr[\"micro\"], _ = roc_curve(Y_true_bin.ravel(), Y_score.ravel())\n",
    "    roc_auc[\"micro\"] = auc(fpr[\"micro\"], tpr[\"micro\"])\n",
    "\n",
    "    # Compute macro-average ROC curve and ROC area\n",
    "    # Aggregate all false positive rates\n",
    "    all_fpr = np.unique(np.concatenate([fpr[i] for i in range(n_classes)]))\n",
    "\n",
    "    # Interpolate all ROC curves at these points and average\n",
    "    mean_tpr = np.zeros_like(all_fpr)\n",
    "    for i in range(n_classes):\n",
    "        mean_tpr += np.interp(all_fpr, fpr[i], tpr[i])\n",
    "\n",
    "    mean_tpr /= n_classes\n",
    "\n",
    "    fpr[\"macro\"] = all_fpr\n",
    "    tpr[\"macro\"] = mean_tpr\n",
    "    roc_auc[\"macro\"] = auc(fpr[\"macro\"], tpr[\"macro\"])\n",
    "\n",
    "    # Plot all ROC curves\n",
    "    plt.figure(figsize=fig_size)\n",
    "    colors = plt.cm.get_cmap('tab10').colors\n",
    "\n",
    "    for i in range(n_classes):\n",
    "        plt.plot(fpr[i], tpr[i], color=colors[i % len(colors)],\n",
    "                 lw=2, label=f'ROC curve of class {class_labels[i]} (AUC = {roc_auc[i]:.2f})')\n",
    "\n",
    "    plt.plot(fpr[\"micro\"], tpr[\"micro\"],\n",
    "             label=f'micro-average ROC curve (AUC = {roc_auc[\"micro\"]:.2f})',\n",
    "             color='deeppink', linestyle=':', linewidth=4)\n",
    "\n",
    "    plt.plot(fpr[\"macro\"], tpr[\"macro\"],\n",
    "             label=f'macro-average ROC curve (AUC = {roc_auc[\"macro\"]:.2f})',\n",
    "             color='navy', linestyle=':', linewidth=4)\n",
    "\n",
    "    plt.plot([0, 1], [0, 1], 'k--', lw=2)\n",
    "    plt.xlim([0.0, 1.0])\n",
    "    plt.ylim([0.0, 1.05])\n",
    "    plt.xlabel('False Positive Rate')\n",
    "    plt.ylabel('True Positive Rate')\n",
    "    plt.title('Test Set ROC Curves')\n",
    "    plt.legend(loc=\"lower right\", fontsize='small')\n",
    "    roc_curve_file = os.path.join(save_path, f'test_roc_curves{num_iters}.png')\n",
    "    plt.savefig(roc_curve_file)\n",
    "    plt.show()\n",
    "    plt.close()\n",
    "    print(f\"ROC Curves generated and saved to '{roc_curve_file}'\\n\")"
   ]
  },
  {
   "cell_type": "code",
   "execution_count": 30,
   "metadata": {
    "execution": {
     "iopub.execute_input": "2025-08-12T08:10:47.479471Z",
     "iopub.status.busy": "2025-08-12T08:10:47.479310Z",
     "iopub.status.idle": "2025-08-12T08:10:51.458884Z",
     "shell.execute_reply": "2025-08-12T08:10:51.458264Z"
    }
   },
   "outputs": [
    {
     "name": "stdout",
     "output_type": "stream",
     "text": [
      "\n",
      "----- Average Cross-Validation Metrics -----\n",
      "\n",
      "Training Balanced accuracy: 0.9726 ± 0.0038\n",
      "Validation Balanced accuracy: 0.9542 ± 0.0273\n",
      "Training Accuracy: 0.9997 ± 0.0000\n",
      "Validation Accuracy: 0.9987 ± 0.0003\n",
      "Training Macro f1: 0.9842 ± 0.0023\n",
      "Validation Macro f1: 0.9627 ± 0.0210\n",
      "Training Precision (Macro): 0.9980 ± 0.0017\n",
      "Validation Precision (Macro): 0.9824 ± 0.0193\n",
      "Training Recall (Macro): 0.9726 ± 0.0038\n",
      "Validation Recall (Macro): 0.9542 ± 0.0273\n",
      "Training Auc: 1.0000 ± 0.0000\n",
      "Validation Auc: 1.0000 ± 0.0000\n",
      "\n",
      "--------------------------------------------\n",
      "\n"
     ]
    },
    {
     "name": "stdout",
     "output_type": "stream",
     "text": [
      "Average Classification Report:\n",
      "                            precision    recall  f1-score        support\n",
      "ARP_poisioning               0.985503  0.990484  0.987987   18600.000000\n",
      "Alexa                        0.999501  0.999707  0.999604  208422.000000\n",
      "DDOS_Slowloris               0.992089  0.978923  0.985462    1281.000000\n",
      "DOS_SYN_Hping                0.999974  1.000000  0.999987  227181.000000\n",
      "MQTT_Publish                 0.999899  0.997488  0.998692    9951.000000\n",
      "Metasploit_Brute_Force_SSH   0.833333  0.666667  0.740741      90.000000\n",
      "NMAP_FIN_SCAN                0.950000  0.863636  0.904762      66.000000\n",
      "NMAP_OS_DETECTION            0.998752  1.000000  0.999375    4800.000000\n",
      "NMAP_TCP_scan                0.998749  0.995844  0.997294    2406.000000\n",
      "NMAP_UDP_SCAN                0.992410  0.988578  0.990490    6216.000000\n",
      "NMAP_XMAS_TREE_SCAN          1.000000  0.998134  0.999066    4824.000000\n",
      "Thing_Speak                  0.990180  0.989824  0.990002   19458.000000\n",
      "Wipro_bulb                   1.000000  0.938944  0.968511     606.000000\n",
      "accuracy                     0.998702  0.998702  0.998702       0.998702\n",
      "macro avg                    0.980030  0.954479  0.966306  503901.000000\n",
      "weighted avg                 0.998698  0.998702  0.998696  503901.000000\n",
      "\n",
      "Classification report saved to ./checkpoints_xgb_100/average_classification_report_100.csv\n",
      "\n"
     ]
    },
    {
     "data": {
      "image/png": "[encoded data removed]",
      "text/plain": [
       "<Figure size 1200x1200 with 2 Axes>"
      ]
     },
     "metadata": {},
     "output_type": "display_data"
    },
    {
     "name": "stdout",
     "output_type": "stream",
     "text": [
      "Average Confusion Matrix saved to ./checkpoints_xgb_100/average_confusion_matrix_100.png\n",
      "\n"
     ]
    }
   ],
   "source": [
    "# Total number of folds\n",
    "total_folds = N_FOLDS * N_REPEATS\n",
    "\n",
    "# Compute and print average cross-validation metrics\n",
    "compute_and_print_average_metrics(\n",
    "    n_folds=total_folds, \n",
    "    metrics_per_fold_path=CHECKPOINT_DIR, \n",
    "    class_labels=class_labels  # Correct variable name\n",
    ")"
   ]
  },
  {
   "cell_type": "code",
   "execution_count": 31,
   "metadata": {
    "execution": {
     "iopub.execute_input": "2025-08-12T08:10:51.460508Z",
     "iopub.status.busy": "2025-08-12T08:10:51.460335Z",
     "iopub.status.idle": "2025-08-12T08:10:53.066399Z",
     "shell.execute_reply": "2025-08-12T08:10:53.065832Z"
    }
   },
   "outputs": [
    {
     "name": "stdout",
     "output_type": "stream",
     "text": [
      "\n",
      "Best model loaded from ./checkpoints_xgb_100/best_xgb_model_100.joblib\n",
      "Before preprocessing: X_test shape: (41992, 83)\n",
      "After preprocessing: X_test_transformed shape: (41992, 94)\n",
      "\n",
      "Evaluating the best model on the test set...\n"
     ]
    },
    {
     "name": "stdout",
     "output_type": "stream",
     "text": [
      "Test Balanced Accuracy: 0.9796\n",
      "Test Accuracy: 0.9989\n",
      "Test Macro F1 Score: 0.9703\n",
      "Test Precision (Macro): 0.9685\n",
      "Test Recall (Macro): 0.9796\n",
      "Test ROC AUC Score: 1.0000\n",
      "Test metrics saved to ./checkpoints_xgb_100/test_metrics_100.json\n",
      "Test classification report saved to ./checkpoints_xgb_100/test_classification_report_100.csv\n"
     ]
    },
    {
     "data": {
      "image/png": "[encoded data removed]",
      "text/plain": [
       "<Figure size 1200x1200 with 2 Axes>"
      ]
     },
     "metadata": {},
     "output_type": "display_data"
    },
    {
     "name": "stdout",
     "output_type": "stream",
     "text": [
      "Confusion matrix saved to ./checkpoints_xgb_100/test_confusion_matrix_100.png\n",
      "\n",
      "\n",
      "Generating ROC Curves...\n"
     ]
    },
    {
     "data": {
      "image/png": "[encoded data removed]",
      "text/plain": [
       "<Figure size 1200x1200 with 1 Axes>"
      ]
     },
     "metadata": {},
     "output_type": "display_data"
    },
    {
     "name": "stdout",
     "output_type": "stream",
     "text": [
      "ROC Curves generated and saved to './checkpoints_xgb_100/test_roc_curves_100.png'\n",
      "\n"
     ]
    },
    {
     "data": {
      "text/plain": [
       "24558"
      ]
     },
     "execution_count": 31,
     "metadata": {},
     "output_type": "execute_result"
    }
   ],
   "source": [
    "# ---------------------------\n",
    "# 3. Load the Best Model and Evaluate on the Test Set\n",
    "# ---------------------------\n",
    "\n",
    "# Path to the best model\n",
    "best_model_path = os.path.join(CHECKPOINT_DIR, f\"best_xgb_model{num_iters}.joblib\")\n",
    "\n",
    "# Check if the best model exists\n",
    "if os.path.exists(best_model_path):\n",
    "   # Load the best model (which includes preprocessing)\n",
    "   \n",
    "    best_model = joblib.load(best_model_path)\n",
    "    print(f\"\\nBest model loaded from {best_model_path}\")\n",
    "else:\n",
    "    print(\"No best model found. Please ensure that cross-validation has been run successfully.\")\n",
    "    best_model = model_pipeline  # Fallback to the last trained model\n",
    "    \n",
    "    \n",
    "# Access the preprocessor from the pipeline\n",
    "preprocessor = best_model.named_steps['preprocessor']\n",
    "\n",
    "# Transform the test data\n",
    "X_test_transformed = preprocessor.transform(X_test)\n",
    "\n",
    "# Print the shape before and after preprocessing\n",
    "print(f\"Before preprocessing: X_test shape: {X_test.shape}\")\n",
    "print(f\"After preprocessing: X_test_transformed shape: {X_test_transformed.shape}\")    \n",
    " \n",
    "\n",
    "# Evaluate on the test set\n",
    "print(\"\\nEvaluating the best model on the test set...\")\n",
    "Y_test_pred = best_model.predict(X_test)\n",
    "Y_test_pred_proba = best_model.predict_proba(X_test)\n",
    "\n",
    "test_bal_acc = balanced_accuracy_score(Y_test, Y_test_pred)\n",
    "test_accuracy = accuracy_score(Y_test, Y_test_pred)\n",
    "test_macro_f1 = f1_score(Y_test, Y_test_pred, average='macro')\n",
    "test_precision = precision_score(Y_test, Y_test_pred, average='macro', zero_division=0)\n",
    "test_recall = recall_score(Y_test, Y_test_pred, average='macro', zero_division=0)\n",
    "Y_test_bin = label_binarize(Y_test, classes=np.arange(CLASSES))\n",
    "test_auc = roc_auc_score(Y_test_bin, Y_test_pred_proba, average='macro', multi_class='ovo')\n",
    "\n",
    "print(f\"Test Balanced Accuracy: {test_bal_acc:.4f}\")\n",
    "print(f\"Test Accuracy: {test_accuracy:.4f}\")\n",
    "print(f\"Test Macro F1 Score: {test_macro_f1:.4f}\")\n",
    "print(f\"Test Precision (Macro): {test_precision:.4f}\")\n",
    "print(f\"Test Recall (Macro): {test_recall:.4f}\")\n",
    "print(f\"Test ROC AUC Score: {test_auc:.4f}\")\n",
    "\n",
    "# Save test metrics\n",
    "test_metrics = {\n",
    "    \"test_balanced_accuracy\": test_bal_acc,\n",
    "    \"test_accuracy\": test_accuracy,\n",
    "    \"test_macro_f1\": test_macro_f1,\n",
    "    \"test_precision_macro\": test_precision,\n",
    "    \"test_recall_macro\": test_recall,\n",
    "    \"test_auc\": test_auc,\n",
    "}\n",
    "test_metrics_file = os.path.join(CHECKPOINT_DIR, f\"test_metrics{num_iters}.json\")\n",
    "with open(test_metrics_file, 'w') as f:\n",
    "    json.dump(test_metrics, f, indent=4)\n",
    "print(f\"Test metrics saved to {test_metrics_file}\")\n",
    "\n",
    "# Generate classification report\n",
    "test_classification_report = classification_report(Y_test, Y_test_pred, target_names=class_labels, output_dict=True)\n",
    "test_report_df = pd.DataFrame(test_classification_report).transpose()\n",
    "test_report_file = os.path.join(CHECKPOINT_DIR, f\"test_classification_report{num_iters}.csv\")\n",
    "test_report_df.to_csv(test_report_file, index=True)\n",
    "print(f\"Test classification report saved to {test_report_file}\")\n",
    "\n",
    "# Plot confusion matrix\n",
    "cm_test = confusion_matrix(Y_test, Y_test_pred)\n",
    "plt.figure(figsize=FIG_SIZE)\n",
    "sns.heatmap(cm_test, annot=True, fmt=\"d\", cmap=\"Blues\", xticklabels=class_labels, yticklabels=class_labels)\n",
    "plt.xlabel('Predicted')\n",
    "plt.ylabel('Actual')\n",
    "plt.title('Test Set Confusion Matrix')\n",
    "cm_file = os.path.join(CHECKPOINT_DIR, f'test_confusion_matrix{num_iters}.png')\n",
    "plt.savefig(cm_file)\n",
    "plt.show()\n",
    "plt.close()\n",
    "print(f\"Confusion matrix saved to {cm_file}\\n\")\n",
    "\n",
    "# ---------------------------\n",
    "# 4. Generate ROC Curves\n",
    "# ---------------------------\n",
    "\n",
    "print(\"\\nGenerating ROC Curves...\")\n",
    "plot_roc_curves(\n",
    "    Y_true=Y_test,\n",
    "    Y_score=Y_test_pred_proba,\n",
    "    class_labels=class_labels,\n",
    "    fig_size=FIG_SIZE,\n",
    "    save_path=CHECKPOINT_DIR\n",
    ")\n",
    "\n",
    "# Clean up to save memory\n",
    "gc.collect()"
   ]
  },
  {
   "cell_type": "code",
   "execution_count": 32,
   "metadata": {
    "execution": {
     "iopub.execute_input": "2025-08-12T08:10:53.068029Z",
     "iopub.status.busy": "2025-08-12T08:10:53.067862Z",
     "iopub.status.idle": "2025-08-12T08:11:05.531286Z",
     "shell.execute_reply": "2025-08-12T08:11:05.530709Z"
    }
   },
   "outputs": [
    {
     "name": "stdout",
     "output_type": "stream",
     "text": [
      "\n",
      "Model loaded from ./checkpoints_xgb_100/model_fold2_100.joblib\n",
      "Fold 2: Before preprocessing: X_test shape: (41992, 83)\n",
      "Fold 2: After preprocessing: X_test_transformed shape: (41992, 94)\n",
      "\n",
      "Evaluating fold 2 on the test set...\n"
     ]
    },
    {
     "name": "stdout",
     "output_type": "stream",
     "text": [
      "Fold 2 metrics: {'fold': 2, 'balanced_accuracy': 0.9784713321826183, 'accuracy': 0.9988569251285959, 'macro_f1': 0.9696970072535536, 'precision_macro': 0.9684304072791853, 'recall_macro': 0.9784713321826183, 'auc': 0.9999793054276375}\n",
      "\n",
      "Model loaded from ./checkpoints_xgb_100/model_fold3_100.joblib\n",
      "Fold 3: Before preprocessing: X_test shape: (41992, 83)\n",
      "Fold 3: After preprocessing: X_test_transformed shape: (41992, 94)\n",
      "\n",
      "Evaluating fold 3 on the test set...\n"
     ]
    },
    {
     "name": "stdout",
     "output_type": "stream",
     "text": [
      "Fold 3 metrics: {'fold': 3, 'balanced_accuracy': 0.9779676868453175, 'accuracy': 0.9988807391884168, 'macro_f1': 0.9691590869239604, 'precision_macro': 0.9678034651800154, 'recall_macro': 0.9779676868453175, 'auc': 0.999983573020679}\n",
      "\n",
      "Model loaded from ./checkpoints_xgb_100/model_fold4_100.joblib\n",
      "Fold 4: Before preprocessing: X_test shape: (41992, 83)\n",
      "Fold 4: After preprocessing: X_test_transformed shape: (41992, 93)\n",
      "\n",
      "Evaluating fold 4 on the test set...\n"
     ]
    },
    {
     "name": "stdout",
     "output_type": "stream",
     "text": [
      "Fold 4 metrics: {'fold': 4, 'balanced_accuracy': 0.978279314801196, 'accuracy': 0.9989283673080587, 'macro_f1': 0.9871804667568198, 'precision_macro': 0.997432972323024, 'recall_macro': 0.978279314801196, 'auc': 0.9999706710181856}\n",
      "\n",
      "Model loaded from ./checkpoints_xgb_100/model_fold5_100.joblib\n",
      "Fold 5: Before preprocessing: X_test shape: (41992, 83)\n",
      "Fold 5: After preprocessing: X_test_transformed shape: (41992, 94)\n",
      "\n",
      "Evaluating fold 5 on the test set...\n"
     ]
    },
    {
     "name": "stdout",
     "output_type": "stream",
     "text": [
      "Fold 5 metrics: {'fold': 5, 'balanced_accuracy': 0.9792818772248499, 'accuracy': 0.998809297008954, 'macro_f1': 0.9880286904019774, 'precision_macro': 0.9980475199733706, 'recall_macro': 0.9792818772248499, 'auc': 0.99998223853561}\n",
      "\n",
      "Model loaded from ./checkpoints_xgb_100/model_fold6_100.joblib\n",
      "Fold 6: Before preprocessing: X_test shape: (41992, 83)\n",
      "Fold 6: After preprocessing: X_test_transformed shape: (41992, 94)\n",
      "\n",
      "Evaluating fold 6 on the test set...\n"
     ]
    },
    {
     "name": "stdout",
     "output_type": "stream",
     "text": [
      "Fold 6 metrics: {'fold': 6, 'balanced_accuracy': 0.9780581305887583, 'accuracy': 0.9989283673080587, 'macro_f1': 0.9699330530000313, 'precision_macro': 0.9693071207564441, 'recall_macro': 0.9780581305887583, 'auc': 0.9999853768447345}\n",
      "\n",
      "Model loaded from ./checkpoints_xgb_100/model_fold7_100.joblib\n",
      "Fold 7: Before preprocessing: X_test shape: (41992, 83)\n",
      "Fold 7: After preprocessing: X_test_transformed shape: (41992, 94)\n",
      "\n",
      "Evaluating fold 7 on the test set...\n"
     ]
    },
    {
     "name": "stdout",
     "output_type": "stream",
     "text": [
      "Fold 7 metrics: {'fold': 7, 'balanced_accuracy': 0.9779925859433796, 'accuracy': 0.998809297008954, 'macro_f1': 0.969315053956104, 'precision_macro': 0.9681897117238758, 'recall_macro': 0.9779925859433796, 'auc': 0.999978691363556}\n",
      "\n",
      "Model loaded from ./checkpoints_xgb_100/model_fold8_100.joblib\n",
      "Fold 8: Before preprocessing: X_test shape: (41992, 83)\n",
      "Fold 8: After preprocessing: X_test_transformed shape: (41992, 94)\n",
      "\n",
      "Evaluating fold 8 on the test set...\n"
     ]
    },
    {
     "name": "stdout",
     "output_type": "stream",
     "text": [
      "Fold 8 metrics: {'fold': 8, 'balanced_accuracy': 0.9782274378657992, 'accuracy': 0.9988569251285959, 'macro_f1': 0.969480778277875, 'precision_macro': 0.9682863257404185, 'recall_macro': 0.9782274378657992, 'auc': 0.9999788397069765}\n",
      "\n",
      "Model loaded from ./checkpoints_xgb_100/model_fold9_100.joblib\n",
      "Fold 9: Before preprocessing: X_test shape: (41992, 83)\n",
      "Fold 9: After preprocessing: X_test_transformed shape: (41992, 94)\n",
      "\n",
      "Evaluating fold 9 on the test set...\n"
     ]
    },
    {
     "name": "stdout",
     "output_type": "stream",
     "text": [
      "Fold 9 metrics: {'fold': 9, 'balanced_accuracy': 0.9764409613176969, 'accuracy': 0.9987854829491332, 'macro_f1': 0.9747051288419777, 'precision_macro': 0.9738593863964848, 'recall_macro': 0.9764409613176969, 'auc': 0.9999564693577265}\n",
      "\n",
      "Model loaded from ./checkpoints_xgb_100/model_fold10_100.joblib\n",
      "Fold 10: Before preprocessing: X_test shape: (41992, 83)\n",
      "Fold 10: After preprocessing: X_test_transformed shape: (41992, 94)\n",
      "\n",
      "Evaluating fold 10 on the test set...\n"
     ]
    },
    {
     "name": "stdout",
     "output_type": "stream",
     "text": [
      "Fold 10 metrics: {'fold': 10, 'balanced_accuracy': 0.976911205805191, 'accuracy': 0.998809297008954, 'macro_f1': 0.9693834682195998, 'precision_macro': 0.9694237244692256, 'recall_macro': 0.976911205805191, 'auc': 0.9999824320917614}\n",
      "\n",
      "Model loaded from ./checkpoints_xgb_100/model_fold11_100.joblib\n",
      "Fold 11: Before preprocessing: X_test shape: (41992, 83)\n",
      "Fold 11: After preprocessing: X_test_transformed shape: (41992, 94)\n",
      "\n",
      "Evaluating fold 11 on the test set...\n"
     ]
    },
    {
     "name": "stdout",
     "output_type": "stream",
     "text": [
      "Fold 11 metrics: {'fold': 11, 'balanced_accuracy': 0.9795770577881184, 'accuracy': 0.9989045532482378, 'macro_f1': 0.970295257005975, 'precision_macro': 0.9684817991407955, 'recall_macro': 0.9795770577881184, 'auc': 0.9999794450756205}\n",
      "\n",
      "Model loaded from ./checkpoints_xgb_100/model_fold12_100.joblib\n",
      "Fold 12: Before preprocessing: X_test shape: (41992, 83)\n",
      "Fold 12: After preprocessing: X_test_transformed shape: (41992, 94)\n",
      "\n",
      "Evaluating fold 12 on the test set...\n"
     ]
    },
    {
     "name": "stdout",
     "output_type": "stream",
     "text": [
      "Fold 12 metrics: {'fold': 12, 'balanced_accuracy': 0.9782154425769443, 'accuracy': 0.9989521813678796, 'macro_f1': 0.9705328457209773, 'precision_macro': 0.9703823284680837, 'recall_macro': 0.9782154425769443, 'auc': 0.9999804216096506}\n",
      "\n",
      "Model loaded from ./checkpoints_xgb_100/model_fold13_100.joblib\n",
      "Fold 13: Before preprocessing: X_test shape: (41992, 83)\n",
      "Fold 13: After preprocessing: X_test_transformed shape: (41992, 94)\n",
      "\n",
      "Evaluating fold 13 on the test set...\n"
     ]
    },
    {
     "name": "stdout",
     "output_type": "stream",
     "text": [
      "Fold 13 metrics: {'fold': 13, 'balanced_accuracy': 0.9778272320841237, 'accuracy': 0.9987616688893123, 'macro_f1': 0.9700661925824056, 'precision_macro': 0.9698348998648592, 'recall_macro': 0.9778272320841237, 'auc': 0.9999754819169061}\n",
      "\n",
      "Model loaded from ./checkpoints_xgb_100/model_fold14_100.joblib\n",
      "Fold 14: Before preprocessing: X_test shape: (41992, 83)\n",
      "Fold 14: After preprocessing: X_test_transformed shape: (41992, 93)\n",
      "\n",
      "Evaluating fold 14 on the test set...\n"
     ]
    },
    {
     "name": "stdout",
     "output_type": "stream",
     "text": [
      "Fold 14 metrics: {'fold': 14, 'balanced_accuracy': 0.9794717728372201, 'accuracy': 0.9988807391884168, 'macro_f1': 0.987173754167143, 'precision_macro': 0.9961291077231702, 'recall_macro': 0.9794717728372201, 'auc': 0.9999787079398216}\n",
      "\n",
      "Model loaded from ./checkpoints_xgb_100/model_fold15_100.joblib\n",
      "Fold 15: Before preprocessing: X_test shape: (41992, 83)\n",
      "Fold 15: After preprocessing: X_test_transformed shape: (41992, 94)\n",
      "\n",
      "Evaluating fold 15 on the test set...\n"
     ]
    },
    {
     "name": "stdout",
     "output_type": "stream",
     "text": [
      "Fold 15 metrics: {'fold': 15, 'balanced_accuracy': 0.9774447045644963, 'accuracy': 0.9989045532482378, 'macro_f1': 0.969210286685433, 'precision_macro': 0.9684972647693961, 'recall_macro': 0.9774447045644963, 'auc': 0.9999768328377759}\n",
      "\n",
      "Model loaded from ./checkpoints_xgb_100/model_fold16_100.joblib\n",
      "Fold 16: Before preprocessing: X_test shape: (41992, 83)\n",
      "Fold 16: After preprocessing: X_test_transformed shape: (41992, 94)\n",
      "\n",
      "Evaluating fold 16 on the test set...\n"
     ]
    },
    {
     "name": "stdout",
     "output_type": "stream",
     "text": [
      "Fold 16 metrics: {'fold': 16, 'balanced_accuracy': 0.9796182569661857, 'accuracy': 0.9989759954277005, 'macro_f1': 0.9710402436033558, 'precision_macro': 0.9699456202980993, 'recall_macro': 0.9796182569661857, 'auc': 0.9999816236112399}\n"
     ]
    },
    {
     "name": "stdout",
     "output_type": "stream",
     "text": [
      "\n",
      "Model loaded from ./checkpoints_xgb_100/model_fold17_100.joblib\n",
      "Fold 17: Before preprocessing: X_test shape: (41992, 83)\n",
      "Fold 17: After preprocessing: X_test_transformed shape: (41992, 94)\n",
      "\n",
      "Evaluating fold 17 on the test set...\n"
     ]
    },
    {
     "name": "stdout",
     "output_type": "stream",
     "text": [
      "Fold 17 metrics: {'fold': 17, 'balanced_accuracy': 0.9796222796598391, 'accuracy': 0.9989283673080587, 'macro_f1': 0.9702990316770724, 'precision_macro': 0.9684441520900228, 'recall_macro': 0.9796222796598391, 'auc': 0.9999750727061106}\n",
      "\n",
      "Model loaded from ./checkpoints_xgb_100/model_fold18_100.joblib\n",
      "Fold 18: Before preprocessing: X_test shape: (41992, 83)\n",
      "Fold 18: After preprocessing: X_test_transformed shape: (41992, 94)\n",
      "\n",
      "Evaluating fold 18 on the test set...\n"
     ]
    },
    {
     "name": "stdout",
     "output_type": "stream",
     "text": [
      "Fold 18 metrics: {'fold': 18, 'balanced_accuracy': 0.9789033723988756, 'accuracy': 0.9989045532482378, 'macro_f1': 0.978071951068324, 'precision_macro': 0.9806832001489814, 'recall_macro': 0.9789033723988756, 'auc': 0.9999759830426603}\n",
      "\n",
      "Model loaded from ./checkpoints_xgb_100/model_fold19_100.joblib\n",
      "Fold 19: Before preprocessing: X_test shape: (41992, 83)\n",
      "Fold 19: After preprocessing: X_test_transformed shape: (41992, 94)\n",
      "\n",
      "Evaluating fold 19 on the test set...\n"
     ]
    },
    {
     "name": "stdout",
     "output_type": "stream",
     "text": [
      "Fold 19 metrics: {'fold': 19, 'balanced_accuracy': 0.977715502101892, 'accuracy': 0.9987854829491332, 'macro_f1': 0.9691025057901524, 'precision_macro': 0.9679473244907109, 'recall_macro': 0.977715502101892, 'auc': 0.9999792573801123}\n",
      "\n",
      "Model loaded from ./checkpoints_xgb_100/model_fold20_100.joblib\n",
      "Fold 20: Before preprocessing: X_test shape: (41992, 83)\n",
      "Fold 20: After preprocessing: X_test_transformed shape: (41992, 94)\n",
      "\n",
      "Evaluating fold 20 on the test set...\n"
     ]
    },
    {
     "name": "stdout",
     "output_type": "stream",
     "text": [
      "Fold 20 metrics: {'fold': 20, 'balanced_accuracy': 0.9789015526651438, 'accuracy': 0.9989521813678796, 'macro_f1': 0.986821370283234, 'precision_macro': 0.9960319202404926, 'recall_macro': 0.9789015526651438, 'auc': 0.9999794638337391}\n",
      "\n",
      "Model loaded from ./checkpoints_xgb_100/model_fold21_100.joblib\n",
      "Fold 21: Before preprocessing: X_test shape: (41992, 83)\n",
      "Fold 21: After preprocessing: X_test_transformed shape: (41992, 94)\n",
      "\n",
      "Evaluating fold 21 on the test set...\n"
     ]
    },
    {
     "name": "stdout",
     "output_type": "stream",
     "text": [
      "Fold 21 metrics: {'fold': 21, 'balanced_accuracy': 0.9798226105598238, 'accuracy': 0.9989759954277005, 'macro_f1': 0.9712418918347397, 'precision_macro': 0.9701444826828409, 'recall_macro': 0.9798226105598238, 'auc': 0.9999670612426339}\n",
      "\n",
      "Model loaded from ./checkpoints_xgb_100/model_fold22_100.joblib\n",
      "Fold 22: Before preprocessing: X_test shape: (41992, 83)\n",
      "Fold 22: After preprocessing: X_test_transformed shape: (41992, 94)\n",
      "\n",
      "Evaluating fold 22 on the test set...\n"
     ]
    },
    {
     "name": "stdout",
     "output_type": "stream",
     "text": [
      "Fold 22 metrics: {'fold': 22, 'balanced_accuracy': 0.9796656587058715, 'accuracy': 0.9989759954277005, 'macro_f1': 0.9705896223676089, 'precision_macro': 0.9689887814815152, 'recall_macro': 0.9796656587058715, 'auc': 0.9999816427360559}\n",
      "\n",
      "Model loaded from ./checkpoints_xgb_100/model_fold23_100.joblib\n",
      "Fold 23: Before preprocessing: X_test shape: (41992, 83)\n",
      "Fold 23: After preprocessing: X_test_transformed shape: (41992, 94)\n",
      "\n",
      "Evaluating fold 23 on the test set...\n"
     ]
    },
    {
     "name": "stdout",
     "output_type": "stream",
     "text": [
      "Fold 23 metrics: {'fold': 23, 'balanced_accuracy': 0.9783764825193345, 'accuracy': 0.998809297008954, 'macro_f1': 0.97029431704669, 'precision_macro': 0.9697344907155055, 'recall_macro': 0.9783764825193345, 'auc': 0.9999766852478338}\n",
      "\n",
      "Model loaded from ./checkpoints_xgb_100/model_fold24_100.joblib\n",
      "Fold 24: Before preprocessing: X_test shape: (41992, 83)\n",
      "Fold 24: After preprocessing: X_test_transformed shape: (41992, 94)\n",
      "\n",
      "Evaluating fold 24 on the test set...\n"
     ]
    },
    {
     "name": "stdout",
     "output_type": "stream",
     "text": [
      "Fold 24 metrics: {'fold': 24, 'balanced_accuracy': 0.9790004250220807, 'accuracy': 0.9989521813678796, 'macro_f1': 0.9707820392393258, 'precision_macro': 0.9700854074035642, 'recall_macro': 0.9790004250220807, 'auc': 0.9999828827475133}\n"
     ]
    },
    {
     "name": "stdout",
     "output_type": "stream",
     "text": [
      "\n",
      "Model loaded from ./checkpoints_xgb_100/model_fold25_100.joblib\n",
      "Fold 25: Before preprocessing: X_test shape: (41992, 83)\n",
      "Fold 25: After preprocessing: X_test_transformed shape: (41992, 94)\n",
      "\n",
      "Evaluating fold 25 on the test set...\n"
     ]
    },
    {
     "name": "stdout",
     "output_type": "stream",
     "text": [
      "Fold 25 metrics: {'fold': 25, 'balanced_accuracy': 0.9774443213383066, 'accuracy': 0.9988569251285959, 'macro_f1': 0.986303960128952, 'precision_macro': 0.9964760443419963, 'recall_macro': 0.9774443213383066, 'auc': 0.9999808289125481}\n",
      "\n",
      "Model loaded from ./checkpoints_xgb_100/model_fold26_100.joblib\n",
      "Fold 26: Before preprocessing: X_test shape: (41992, 83)\n",
      "Fold 26: After preprocessing: X_test_transformed shape: (41992, 94)\n",
      "\n",
      "Evaluating fold 26 on the test set...\n"
     ]
    },
    {
     "name": "stdout",
     "output_type": "stream",
     "text": [
      "Fold 26 metrics: {'fold': 26, 'balanced_accuracy': 0.9781073520621759, 'accuracy': 0.9988807391884168, 'macro_f1': 0.9696426896505917, 'precision_macro': 0.9686643727493235, 'recall_macro': 0.9781073520621759, 'auc': 0.9999823308666822}\n",
      "\n",
      "Model loaded from ./checkpoints_xgb_100/model_fold27_100.joblib\n",
      "Fold 27: Before preprocessing: X_test shape: (41992, 83)\n",
      "Fold 27: After preprocessing: X_test_transformed shape: (41992, 94)\n",
      "\n",
      "Evaluating fold 27 on the test set...\n"
     ]
    },
    {
     "name": "stdout",
     "output_type": "stream",
     "text": [
      "Fold 27 metrics: {'fold': 27, 'balanced_accuracy': 0.977427490719507, 'accuracy': 0.9988569251285959, 'macro_f1': 0.986049686694748, 'precision_macro': 0.995952097140096, 'recall_macro': 0.977427490719507, 'auc': 0.9999831358287745}\n",
      "\n",
      "Model loaded from ./checkpoints_xgb_100/model_fold28_100.joblib\n",
      "Fold 28: Before preprocessing: X_test shape: (41992, 83)\n",
      "Fold 28: After preprocessing: X_test_transformed shape: (41992, 94)\n",
      "\n",
      "Evaluating fold 28 on the test set...\n"
     ]
    },
    {
     "name": "stdout",
     "output_type": "stream",
     "text": [
      "Fold 28 metrics: {'fold': 28, 'balanced_accuracy': 0.9784239073509764, 'accuracy': 0.998833111068775, 'macro_f1': 0.969577695845476, 'precision_macro': 0.9682388386431433, 'recall_macro': 0.9784239073509764, 'auc': 0.999978470334217}\n",
      "\n",
      "Model loaded from ./checkpoints_xgb_100/model_fold29_100.joblib\n",
      "Fold 29: Before preprocessing: X_test shape: (41992, 83)\n",
      "Fold 29: After preprocessing: X_test_transformed shape: (41992, 93)\n",
      "\n",
      "Evaluating fold 29 on the test set...\n"
     ]
    },
    {
     "name": "stdout",
     "output_type": "stream",
     "text": [
      "Fold 29 metrics: {'fold': 29, 'balanced_accuracy': 0.9770502453261452, 'accuracy': 0.9987378548294913, 'macro_f1': 0.9696850316159011, 'precision_macro': 0.9698901802270593, 'recall_macro': 0.9770502453261452, 'auc': 0.9999819576509493}\n",
      "\n",
      "Model loaded from ./checkpoints_xgb_100/model_fold30_100.joblib\n",
      "Fold 30: Before preprocessing: X_test shape: (41992, 83)\n",
      "Fold 30: After preprocessing: X_test_transformed shape: (41992, 94)\n",
      "\n",
      "Evaluating fold 30 on the test set...\n"
     ]
    },
    {
     "name": "stdout",
     "output_type": "stream",
     "text": [
      "Fold 30 metrics: {'fold': 30, 'balanced_accuracy': 0.9781680408372584, 'accuracy': 0.9989521813678796, 'macro_f1': 0.977869896238754, 'precision_macro': 0.9810230601633161, 'recall_macro': 0.9781680408372584, 'auc': 0.9999731561466241}\n",
      "Model file not found: ./checkpoints_xgb_100/model_fold31_100.joblib\n",
      "\n",
      "Aggregated Metrics Across All Folds:\n",
      "fold: 16.00000 ± 8.51469\n",
      "balanced_accuracy: 0.97836 ± 0.00090\n",
      "accuracy: 0.99888 ± 0.00007\n",
      "macro_f1: 0.97419 ± 0.00699\n",
      "precision_macro: 0.97574 ± 0.01134\n",
      "recall_macro: 0.97836 ± 0.00090\n",
      "auc: 0.99998 ± 0.00001\n",
      "\n",
      "All folds metrics saved to ./checkpoints_xgb_100/all_folds_metrics_100.json\n"
     ]
    },
    {
     "data": {
      "text/plain": [
       "536"
      ]
     },
     "execution_count": 32,
     "metadata": {},
     "output_type": "execute_result"
    }
   ],
   "source": [
    "import os\n",
    "import joblib\n",
    "import numpy as np\n",
    "import json\n",
    "import pandas as pd\n",
    "import matplotlib.pyplot as plt\n",
    "import seaborn as sns\n",
    "import gc\n",
    "\n",
    "from sklearn.metrics import (\n",
    "    balanced_accuracy_score,\n",
    "    accuracy_score,\n",
    "    f1_score,\n",
    "    precision_score,\n",
    "    recall_score,\n",
    "    roc_auc_score,\n",
    "    classification_report,\n",
    "    confusion_matrix,\n",
    ")\n",
    "from sklearn.preprocessing import label_binarize\n",
    "\n",
    "# ---------------------------\n",
    "# 3. Load All Fold Models and Evaluate on the Test Set\n",
    "# ---------------------------\n",
    "\n",
    "# List to hold metrics for each fold\n",
    "all_metrics = []\n",
    "\n",
    "# Loop through folds 1 to 30\n",
    "for fold in range(1, 31):\n",
    "    fold = fold + 1\n",
    "    model_path = os.path.join(CHECKPOINT_DIR, f\"model_fold{fold}{num_iters}.joblib\")\n",
    "    if os.path.exists(model_path):\n",
    "        # Load the model for the current fold (which includes preprocessing)\n",
    "        model = joblib.load(model_path)\n",
    "        print(f\"\\nModel loaded from {model_path}\")\n",
    "        \n",
    "        # Access the preprocessor from the pipeline\n",
    "        preprocessor = model.named_steps['preprocessor']\n",
    "        # Transform the test data\n",
    "        X_test_transformed = preprocessor.transform(X_test)\n",
    "        \n",
    "        # Print the shape before and after preprocessing\n",
    "        print(f\"Fold {fold}: Before preprocessing: X_test shape: {X_test.shape}\")\n",
    "        print(f\"Fold {fold}: After preprocessing: X_test_transformed shape: {X_test_transformed.shape}\")\n",
    "        \n",
    "        # Evaluate on the test set\n",
    "        print(f\"\\nEvaluating fold {fold} on the test set...\")\n",
    "        Y_test_pred = model.predict(X_test)\n",
    "        Y_test_pred_proba = model.predict_proba(X_test)\n",
    "        \n",
    "        test_bal_acc = balanced_accuracy_score(Y_test, Y_test_pred)\n",
    "        test_accuracy = accuracy_score(Y_test, Y_test_pred)\n",
    "        test_macro_f1 = f1_score(Y_test, Y_test_pred, average='macro')\n",
    "        test_precision = precision_score(Y_test, Y_test_pred, average='macro', zero_division=0)\n",
    "        test_recall = recall_score(Y_test, Y_test_pred, average='macro', zero_division=0)\n",
    "        \n",
    "        # Convert Y_test to binary for multi-class AUC calculation\n",
    "        Y_test_bin = label_binarize(Y_test, classes=np.arange(CLASSES))\n",
    "        test_auc = roc_auc_score(Y_test_bin, Y_test_pred_proba, average='macro', multi_class='ovo')\n",
    "        \n",
    "        # Collect metrics for the current fold\n",
    "        fold_metrics = {\n",
    "            \"fold\": fold,\n",
    "            \"balanced_accuracy\": test_bal_acc,\n",
    "            \"accuracy\": test_accuracy,\n",
    "            \"macro_f1\": test_macro_f1,\n",
    "            \"precision_macro\": test_precision,\n",
    "            \"recall_macro\": test_recall,\n",
    "            \"auc\": test_auc,\n",
    "        }\n",
    "        all_metrics.append(fold_metrics)\n",
    "        print(f\"Fold {fold} metrics: {fold_metrics}\")\n",
    "    else:\n",
    "        print(f\"Model file not found: {model_path}\")\n",
    "\n",
    "# Convert the list of metrics dictionaries to a DataFrame\n",
    "metrics_df = pd.DataFrame(all_metrics)\n",
    "\n",
    "# Calculate the mean and standard deviation for each metric across folds\n",
    "mean_metrics = metrics_df.mean(numeric_only=True)\n",
    "std_metrics = metrics_df.std(numeric_only=True)\n",
    "\n",
    "# Print the aggregated results in \"mean ± std\" format\n",
    "print(\"\\nAggregated Metrics Across All Folds:\")\n",
    "for metric in mean_metrics.index:\n",
    "    mean_val = mean_metrics[metric]\n",
    "    std_val = std_metrics[metric]\n",
    "    print(f\"{metric}: {mean_val:.5f} ± {std_val:.5f}\")\n",
    "\n",
    "# Save detailed fold metrics and aggregated (mean and std) metrics to a JSON file\n",
    "aggregated_metrics = {\n",
    "    \"detailed\": all_metrics,\n",
    "    \"mean\": mean_metrics.to_dict(),\n",
    "    \"std\": std_metrics.to_dict(),\n",
    "}\n",
    "metrics_file = os.path.join(CHECKPOINT_DIR, f\"all_folds_metrics{num_iters}.json\")\n",
    "with open(metrics_file, 'w') as f:\n",
    "    json.dump(aggregated_metrics, f, indent=4)\n",
    "print(f\"\\nAll folds metrics saved to {metrics_file}\")\n",
    "\n",
    "# Clean up to save memory\n",
    "gc.collect()\n"
   ]
  }
 ],
 "metadata": {
  "deepnote_execution_queue": [],
  "deepnote_notebook_id": "35c928e4665b4bada7a83703b11346c1",
  "kernelspec": {
   "display_name": "tuninggpu310",
   "language": "python",
   "name": "python3"
  },
  "language_info": {
   "codemirror_mode": {
    "name": "ipython",
    "version": 3
   },
   "file_extension": ".py",
   "mimetype": "text/x-python",
   "name": "python",
   "nbconvert_exporter": "python",
   "pygments_lexer": "ipython3",
   "version": "3.10.16"
  }
 },
 "nbformat": 4,
 "nbformat_minor": 4
}
